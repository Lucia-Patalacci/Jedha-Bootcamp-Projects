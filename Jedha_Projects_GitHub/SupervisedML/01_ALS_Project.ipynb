{
  "nbformat": 4,
  "nbformat_minor": 0,
  "metadata": {
    "colab": {
      "name": "01-ALS_Project_Solution.ipynb",
      "provenance": []
    },
    "kernelspec": {
      "display_name": "Python 3",
      "language": "python",
      "name": "python3"
    },
    "language_info": {
      "codemirror_mode": {
        "name": "ipython",
        "version": 3
      },
      "file_extension": ".py",
      "mimetype": "text/x-python",
      "name": "python",
      "nbconvert_exporter": "python",
      "pygments_lexer": "ipython3",
      "version": "3.8.5"
    },
    "name": "S8-5. Recommandation",
    "notebookId": 4008730404238350
  },
  "cells": [
    {
      "cell_type": "markdown",
      "metadata": {
        "id": "eLIYk6HNUIqH"
      },
      "source": [
        "# ALS Project\n",
        "This project will have you work on the same dataset as the other recommendation project, except this time we will use the ALS recommender with Spark.\n",
        "\n",
        "Load the following dataset : ```http://www.occamslab.com/petricek/data/ratings.dat```\n",
        "\n",
        "The dataset is very big, more than 17 million entries. Try and train a model with a small subset of user ids and then scale up that number in order to measure changes in term of prediction errors."
      ]
    },
    {
      "cell_type": "markdown",
      "metadata": {
        "id": "ahGT4OHWXcXG"
      },
      "source": [
        "1. Import libraries :"
      ]
    },
    {
      "cell_type": "code",
      "metadata": {
        "id": "0Aani3RXSwgv",
        "outputId": "33c50f44-ecdf-4c63-da12-1fc73f051220",
        "colab": {
          "base_uri": "https://localhost:8080/",
          "height": 52
        }
      },
      "source": [
        "!pip install pyspark"
      ],
      "execution_count": 1,
      "outputs": [
        {
          "output_type": "stream",
          "text": [
            "Requirement already satisfied: pyspark in /usr/local/lib/python3.6/dist-packages (3.0.1)\n",
            "Requirement already satisfied: py4j==0.10.9 in /usr/local/lib/python3.6/dist-packages (from pyspark) (0.10.9)\n"
          ],
          "name": "stdout"
        }
      ]
    },
    {
      "cell_type": "code",
      "metadata": {
        "id": "2AIHwO-IUIqJ"
      },
      "source": [
        "from pyspark import SparkContext, SparkConf\n",
        "from pyspark.sql import SparkSession\n",
        "import pandas as pd\n",
        "from pyspark.sql import functions as F\n",
        "\n",
        "from pyspark.ml.recommendation import ALS\n",
        "from pyspark.ml.evaluation import BinaryClassificationEvaluator, RegressionEvaluator\n",
        "from pyspark.ml.tuning import ParamGridBuilder, CrossValidator\n",
        "from pyspark.ml.feature import StringIndexer\n"
      ],
      "execution_count": 2,
      "outputs": []
    },
    {
      "cell_type": "markdown",
      "metadata": {
        "id": "Ptr9YvfjXsD0"
      },
      "source": [
        "2. Define a SparkSession object"
      ]
    },
    {
      "cell_type": "code",
      "metadata": {
        "id": "IaCoynWQTXy8"
      },
      "source": [
        "conf = SparkConf().setMaster(\"local\")"
      ],
      "execution_count": 3,
      "outputs": []
    },
    {
      "cell_type": "code",
      "metadata": {
        "id": "dl0c4RWITY0Z"
      },
      "source": [
        "sc = SparkContext(conf=conf)"
      ],
      "execution_count": 4,
      "outputs": []
    },
    {
      "cell_type": "code",
      "metadata": {
        "id": "2T1xLKZHTbFk"
      },
      "source": [
        "spark = SparkSession(sc)"
      ],
      "execution_count": 5,
      "outputs": []
    },
    {
      "cell_type": "markdown",
      "metadata": {
        "id": "icVuUiRYXzZ0"
      },
      "source": [
        "3. Load the following dataset : ```http://www.occamslab.com/petricek/data/ratings.dat```"
      ]
    },
    {
      "cell_type": "code",
      "metadata": {
        "id": "LWA0r9BvUIqO",
        "outputId": "613a5345-527f-4089-d1a8-133869d66ad6",
        "colab": {
          "base_uri": "https://localhost:8080/",
          "height": 203
        }
      },
      "source": [
        "ratings = pd.read_csv(\"http://www.occamslab.com/petricek/data/ratings.dat\", header=None)\n",
        "ratings.columns=[\"UserID\", \"ProfileID\", \"Rating\"]\n",
        "sample_ID = ratings[\"UserID\"].sample(100000)\n",
        "rows_to_keep = ratings[\"UserID\"].isin(sample_ID)\n",
        "ratings = ratings.loc[rows_to_keep,:]\n",
        "ratings.head()"
      ],
      "execution_count": 27,
      "outputs": [
        {
          "output_type": "execute_result",
          "data": {
            "text/html": [
              "<div>\n",
              "<style scoped>\n",
              "    .dataframe tbody tr th:only-of-type {\n",
              "        vertical-align: middle;\n",
              "    }\n",
              "\n",
              "    .dataframe tbody tr th {\n",
              "        vertical-align: top;\n",
              "    }\n",
              "\n",
              "    .dataframe thead th {\n",
              "        text-align: right;\n",
              "    }\n",
              "</style>\n",
              "<table border=\"1\" class=\"dataframe\">\n",
              "  <thead>\n",
              "    <tr style=\"text-align: right;\">\n",
              "      <th></th>\n",
              "      <th>UserID</th>\n",
              "      <th>ProfileID</th>\n",
              "      <th>Rating</th>\n",
              "    </tr>\n",
              "  </thead>\n",
              "  <tbody>\n",
              "    <tr>\n",
              "      <th>345</th>\n",
              "      <td>2</td>\n",
              "      <td>133</td>\n",
              "      <td>10</td>\n",
              "    </tr>\n",
              "    <tr>\n",
              "      <th>346</th>\n",
              "      <td>2</td>\n",
              "      <td>4340</td>\n",
              "      <td>8</td>\n",
              "    </tr>\n",
              "    <tr>\n",
              "      <th>347</th>\n",
              "      <td>2</td>\n",
              "      <td>4672</td>\n",
              "      <td>10</td>\n",
              "    </tr>\n",
              "    <tr>\n",
              "      <th>348</th>\n",
              "      <td>2</td>\n",
              "      <td>5577</td>\n",
              "      <td>10</td>\n",
              "    </tr>\n",
              "    <tr>\n",
              "      <th>349</th>\n",
              "      <td>2</td>\n",
              "      <td>7006</td>\n",
              "      <td>10</td>\n",
              "    </tr>\n",
              "  </tbody>\n",
              "</table>\n",
              "</div>"
            ],
            "text/plain": [
              "     UserID  ProfileID  Rating\n",
              "345       2        133      10\n",
              "346       2       4340       8\n",
              "347       2       4672      10\n",
              "348       2       5577      10\n",
              "349       2       7006      10"
            ]
          },
          "metadata": {
            "tags": []
          },
          "execution_count": 27
        }
      ]
    },
    {
      "cell_type": "code",
      "metadata": {
        "id": "CnggrNDY-yO2",
        "outputId": "612cdfb1-979b-4219-80f8-21f939ab3afa",
        "colab": {
          "base_uri": "https://localhost:8080/",
          "height": 34
        }
      },
      "source": [
        "ratings.shape"
      ],
      "execution_count": 28,
      "outputs": [
        {
          "output_type": "execute_result",
          "data": {
            "text/plain": [
              "(11783581, 3)"
            ]
          },
          "metadata": {
            "tags": []
          },
          "execution_count": 28
        }
      ]
    },
    {
      "cell_type": "code",
      "metadata": {
        "id": "lAhTczW3_IEo",
        "outputId": "2004e6e2-97eb-4bfa-fe42-b9ad09c0d7a5",
        "colab": {
          "base_uri": "https://localhost:8080/",
          "height": 352
        }
      },
      "source": [
        "import numpy as np\n",
        "import seaborn as sns\n",
        "import matplotlib.pyplot as plt\n",
        "\n",
        "sns.distplot(ratings.groupby(\"UserID\").count()[\"Rating\"][ratings.groupby(\"UserID\").count()[\"Rating\"]<2500])"
      ],
      "execution_count": 47,
      "outputs": [
        {
          "output_type": "stream",
          "text": [
            "/usr/local/lib/python3.6/dist-packages/seaborn/distributions.py:2551: FutureWarning: `distplot` is a deprecated function and will be removed in a future version. Please adapt your code to use either `displot` (a figure-level function with similar flexibility) or `histplot` (an axes-level function for histograms).\n",
            "  warnings.warn(msg, FutureWarning)\n"
          ],
          "name": "stderr"
        },
        {
          "output_type": "execute_result",
          "data": {
            "text/plain": [
              "<matplotlib.axes._subplots.AxesSubplot at 0x7f1007c9f5f8>"
            ]
          },
          "metadata": {
            "tags": []
          },
          "execution_count": 47
        },
        {
          "output_type": "display_data",
          "data": {
            "image/png": "[encoded data removed]",
            "text/plain": [
              "<Figure size 432x288 with 1 Axes>"
            ]
          },
          "metadata": {
            "tags": [],
            "needs_background": "light"
          }
        }
      ]
    },
    {
      "cell_type": "code",
      "metadata": {
        "id": "LnNHMIUC_3fo",
        "outputId": "a21e6328-101d-43e6-adb8-eec0bcd70e32",
        "colab": {
          "base_uri": "https://localhost:8080/",
          "height": 296
        }
      },
      "source": [
        "pd.DataFrame(ratings.groupby(\"UserID\").count()[\"Rating\"]).describe()"
      ],
      "execution_count": 50,
      "outputs": [
        {
          "output_type": "execute_result",
          "data": {
            "text/html": [
              "<div>\n",
              "<style scoped>\n",
              "    .dataframe tbody tr th:only-of-type {\n",
              "        vertical-align: middle;\n",
              "    }\n",
              "\n",
              "    .dataframe tbody tr th {\n",
              "        vertical-align: top;\n",
              "    }\n",
              "\n",
              "    .dataframe thead th {\n",
              "        text-align: right;\n",
              "    }\n",
              "</style>\n",
              "<table border=\"1\" class=\"dataframe\">\n",
              "  <thead>\n",
              "    <tr style=\"text-align: right;\">\n",
              "      <th></th>\n",
              "      <th>Rating</th>\n",
              "    </tr>\n",
              "  </thead>\n",
              "  <tbody>\n",
              "    <tr>\n",
              "      <th>count</th>\n",
              "      <td>50826.000000</td>\n",
              "    </tr>\n",
              "    <tr>\n",
              "      <th>mean</th>\n",
              "      <td>231.841597</td>\n",
              "    </tr>\n",
              "    <tr>\n",
              "      <th>std</th>\n",
              "      <td>599.087803</td>\n",
              "    </tr>\n",
              "    <tr>\n",
              "      <th>min</th>\n",
              "      <td>20.000000</td>\n",
              "    </tr>\n",
              "    <tr>\n",
              "      <th>25%</th>\n",
              "      <td>74.000000</td>\n",
              "    </tr>\n",
              "    <tr>\n",
              "      <th>50%</th>\n",
              "      <td>117.000000</td>\n",
              "    </tr>\n",
              "    <tr>\n",
              "      <th>75%</th>\n",
              "      <td>207.000000</td>\n",
              "    </tr>\n",
              "    <tr>\n",
              "      <th>max</th>\n",
              "      <td>25042.000000</td>\n",
              "    </tr>\n",
              "  </tbody>\n",
              "</table>\n",
              "</div>"
            ],
            "text/plain": [
              "             Rating\n",
              "count  50826.000000\n",
              "mean     231.841597\n",
              "std      599.087803\n",
              "min       20.000000\n",
              "25%       74.000000\n",
              "50%      117.000000\n",
              "75%      207.000000\n",
              "max    25042.000000"
            ]
          },
          "metadata": {
            "tags": []
          },
          "execution_count": 50
        }
      ]
    },
    {
      "cell_type": "markdown",
      "metadata": {
        "id": "66oPw0teYPO7"
      },
      "source": [
        "4. Transform the dataset into a Spark DataFrame and call it rating"
      ]
    },
    {
      "cell_type": "code",
      "metadata": {
        "id": "viOuKci6Vtva"
      },
      "source": [
        "rating = spark.createDataFrame(ratings)"
      ],
      "execution_count": 7,
      "outputs": []
    },
    {
      "cell_type": "code",
      "metadata": {
        "id": "vG-69jg8UIqX",
        "outputId": "9ec53766-119c-47f4-d5f9-c908d95c36bd",
        "colab": {
          "base_uri": "https://localhost:8080/",
          "height": 358
        }
      },
      "source": [
        "rating.limit(10).toPandas()"
      ],
      "execution_count": 8,
      "outputs": [
        {
          "output_type": "execute_result",
          "data": {
            "text/html": [
              "<div>\n",
              "<style scoped>\n",
              "    .dataframe tbody tr th:only-of-type {\n",
              "        vertical-align: middle;\n",
              "    }\n",
              "\n",
              "    .dataframe tbody tr th {\n",
              "        vertical-align: top;\n",
              "    }\n",
              "\n",
              "    .dataframe thead th {\n",
              "        text-align: right;\n",
              "    }\n",
              "</style>\n",
              "<table border=\"1\" class=\"dataframe\">\n",
              "  <thead>\n",
              "    <tr style=\"text-align: right;\">\n",
              "      <th></th>\n",
              "      <th>UserID</th>\n",
              "      <th>ProfileID</th>\n",
              "      <th>Rating</th>\n",
              "    </tr>\n",
              "  </thead>\n",
              "  <tbody>\n",
              "    <tr>\n",
              "      <th>0</th>\n",
              "      <td>1</td>\n",
              "      <td>133</td>\n",
              "      <td>8</td>\n",
              "    </tr>\n",
              "    <tr>\n",
              "      <th>1</th>\n",
              "      <td>1</td>\n",
              "      <td>720</td>\n",
              "      <td>6</td>\n",
              "    </tr>\n",
              "    <tr>\n",
              "      <th>2</th>\n",
              "      <td>1</td>\n",
              "      <td>971</td>\n",
              "      <td>10</td>\n",
              "    </tr>\n",
              "    <tr>\n",
              "      <th>3</th>\n",
              "      <td>1</td>\n",
              "      <td>1095</td>\n",
              "      <td>7</td>\n",
              "    </tr>\n",
              "    <tr>\n",
              "      <th>4</th>\n",
              "      <td>1</td>\n",
              "      <td>1616</td>\n",
              "      <td>10</td>\n",
              "    </tr>\n",
              "    <tr>\n",
              "      <th>5</th>\n",
              "      <td>1</td>\n",
              "      <td>1978</td>\n",
              "      <td>7</td>\n",
              "    </tr>\n",
              "    <tr>\n",
              "      <th>6</th>\n",
              "      <td>1</td>\n",
              "      <td>2145</td>\n",
              "      <td>8</td>\n",
              "    </tr>\n",
              "    <tr>\n",
              "      <th>7</th>\n",
              "      <td>1</td>\n",
              "      <td>2211</td>\n",
              "      <td>8</td>\n",
              "    </tr>\n",
              "    <tr>\n",
              "      <th>8</th>\n",
              "      <td>1</td>\n",
              "      <td>3751</td>\n",
              "      <td>7</td>\n",
              "    </tr>\n",
              "    <tr>\n",
              "      <th>9</th>\n",
              "      <td>1</td>\n",
              "      <td>4062</td>\n",
              "      <td>3</td>\n",
              "    </tr>\n",
              "  </tbody>\n",
              "</table>\n",
              "</div>"
            ],
            "text/plain": [
              "   UserID  ProfileID  Rating\n",
              "0       1        133       8\n",
              "1       1        720       6\n",
              "2       1        971      10\n",
              "3       1       1095       7\n",
              "4       1       1616      10\n",
              "5       1       1978       7\n",
              "6       1       2145       8\n",
              "7       1       2211       8\n",
              "8       1       3751       7\n",
              "9       1       4062       3"
            ]
          },
          "metadata": {
            "tags": []
          },
          "execution_count": 8
        }
      ]
    },
    {
      "cell_type": "markdown",
      "metadata": {
        "id": "Xh4KI2gxUIqa"
      },
      "source": [
        "#1. Pre processing"
      ]
    },
    {
      "cell_type": "markdown",
      "metadata": {
        "id": "9Ain8U_XUIqh"
      },
      "source": [
        "#2. Entrainement"
      ]
    },
    {
      "cell_type": "markdown",
      "metadata": {
        "id": "X9Ny6heBbfNH"
      },
      "source": [
        "1. Split the data between train and test"
      ]
    },
    {
      "cell_type": "code",
      "metadata": {
        "id": "dFtgi1S3UIqi"
      },
      "source": [
        "\n",
        "train, test = rating.randomSplit([0.8, 0.2])"
      ],
      "execution_count": 9,
      "outputs": []
    },
    {
      "cell_type": "markdown",
      "metadata": {
        "id": "KJmqs3wub0lr"
      },
      "source": [
        "2. Create an instance of the ALS model and try and find the best rank for the implicit variables space thanks to a cross-validator."
      ]
    },
    {
      "cell_type": "code",
      "metadata": {
        "id": "2O5ual20UIql"
      },
      "source": [
        "als = ALS(userCol=\"UserID\", itemCol=\"ProfileID\", ratingCol=\"Rating\", coldStartStrategy=\"drop\", nonnegative=True)\n",
        "\n",
        "evaluator = RegressionEvaluator(metricName=\"rmse\", labelCol=\"Rating\", predictionCol=\"prediction\")\n",
        "\n",
        "paramGrid = ParamGridBuilder() \\\n",
        "                    .addGrid(als.rank, [5, 10, 20]) \\\n",
        "                    .addGrid(als.maxIter,[5]) \\\n",
        "                    .build()\n",
        "\n",
        "cv = CrossValidator(\n",
        "  estimator=als, \n",
        "  evaluator=evaluator, \n",
        "  estimatorParamMaps=paramGrid, \n",
        "  numFolds=5\n",
        ")"
      ],
      "execution_count": 10,
      "outputs": []
    },
    {
      "cell_type": "markdown",
      "metadata": {
        "id": "Znhkr1XOcQ_S"
      },
      "source": [
        "3. Fit the model"
      ]
    },
    {
      "cell_type": "code",
      "metadata": {
        "id": "wc6D4ticUIqp",
        "outputId": "c87b6fdc-1627-4e1c-8761-a35003c0ab05",
        "colab": {
          "base_uri": "https://localhost:8080/",
          "height": 52
        }
      },
      "source": [
        "%time model = cv.fit(train)"
      ],
      "execution_count": 11,
      "outputs": [
        {
          "output_type": "stream",
          "text": [
            "CPU times: user 2.23 s, sys: 466 ms, total: 2.69 s\n",
            "Wall time: 24min 22s\n"
          ],
          "name": "stdout"
        }
      ]
    },
    {
      "cell_type": "markdown",
      "metadata": {
        "id": "c4EJh2XLUIqw"
      },
      "source": [
        "#3. Evaluation et analyse"
      ]
    },
    {
      "cell_type": "markdown",
      "metadata": {
        "id": "fFAtjBVYdEPL"
      },
      "source": [
        "1. Create an object predictions_test that contains the predictions of the model for the test set."
      ]
    },
    {
      "cell_type": "code",
      "metadata": {
        "id": "XYNr52ulUIqx"
      },
      "source": [
        "predictions_test = model.transform(test)"
      ],
      "execution_count": 12,
      "outputs": []
    },
    {
      "cell_type": "code",
      "metadata": {
        "id": "6ai_NtRMUIq0",
        "outputId": "ba99f312-7c08-44e8-e693-bd32eebbcc0e",
        "colab": {
          "base_uri": "https://localhost:8080/",
          "height": 358
        }
      },
      "source": [
        "predictions_test.limit(10).toPandas()"
      ],
      "execution_count": 13,
      "outputs": [
        {
          "output_type": "execute_result",
          "data": {
            "text/html": [
              "<div>\n",
              "<style scoped>\n",
              "    .dataframe tbody tr th:only-of-type {\n",
              "        vertical-align: middle;\n",
              "    }\n",
              "\n",
              "    .dataframe tbody tr th {\n",
              "        vertical-align: top;\n",
              "    }\n",
              "\n",
              "    .dataframe thead th {\n",
              "        text-align: right;\n",
              "    }\n",
              "</style>\n",
              "<table border=\"1\" class=\"dataframe\">\n",
              "  <thead>\n",
              "    <tr style=\"text-align: right;\">\n",
              "      <th></th>\n",
              "      <th>UserID</th>\n",
              "      <th>ProfileID</th>\n",
              "      <th>Rating</th>\n",
              "      <th>prediction</th>\n",
              "    </tr>\n",
              "  </thead>\n",
              "  <tbody>\n",
              "    <tr>\n",
              "      <th>0</th>\n",
              "      <td>4100</td>\n",
              "      <td>496</td>\n",
              "      <td>10</td>\n",
              "      <td>8.707150</td>\n",
              "    </tr>\n",
              "    <tr>\n",
              "      <th>1</th>\n",
              "      <td>53343</td>\n",
              "      <td>496</td>\n",
              "      <td>7</td>\n",
              "      <td>7.716342</td>\n",
              "    </tr>\n",
              "    <tr>\n",
              "      <th>2</th>\n",
              "      <td>129820</td>\n",
              "      <td>496</td>\n",
              "      <td>6</td>\n",
              "      <td>7.772081</td>\n",
              "    </tr>\n",
              "    <tr>\n",
              "      <th>3</th>\n",
              "      <td>133751</td>\n",
              "      <td>496</td>\n",
              "      <td>7</td>\n",
              "      <td>6.082697</td>\n",
              "    </tr>\n",
              "    <tr>\n",
              "      <th>4</th>\n",
              "      <td>48711</td>\n",
              "      <td>1238</td>\n",
              "      <td>1</td>\n",
              "      <td>3.984700</td>\n",
              "    </tr>\n",
              "    <tr>\n",
              "      <th>5</th>\n",
              "      <td>35899</td>\n",
              "      <td>1238</td>\n",
              "      <td>1</td>\n",
              "      <td>5.007784</td>\n",
              "    </tr>\n",
              "    <tr>\n",
              "      <th>6</th>\n",
              "      <td>42017</td>\n",
              "      <td>1238</td>\n",
              "      <td>6</td>\n",
              "      <td>4.923349</td>\n",
              "    </tr>\n",
              "    <tr>\n",
              "      <th>7</th>\n",
              "      <td>55648</td>\n",
              "      <td>1238</td>\n",
              "      <td>10</td>\n",
              "      <td>7.409413</td>\n",
              "    </tr>\n",
              "    <tr>\n",
              "      <th>8</th>\n",
              "      <td>90280</td>\n",
              "      <td>1238</td>\n",
              "      <td>5</td>\n",
              "      <td>2.192980</td>\n",
              "    </tr>\n",
              "    <tr>\n",
              "      <th>9</th>\n",
              "      <td>101603</td>\n",
              "      <td>1238</td>\n",
              "      <td>1</td>\n",
              "      <td>2.443280</td>\n",
              "    </tr>\n",
              "  </tbody>\n",
              "</table>\n",
              "</div>"
            ],
            "text/plain": [
              "   UserID  ProfileID  Rating  prediction\n",
              "0    4100        496      10    8.707150\n",
              "1   53343        496       7    7.716342\n",
              "2  129820        496       6    7.772081\n",
              "3  133751        496       7    6.082697\n",
              "4   48711       1238       1    3.984700\n",
              "5   35899       1238       1    5.007784\n",
              "6   42017       1238       6    4.923349\n",
              "7   55648       1238      10    7.409413\n",
              "8   90280       1238       5    2.192980\n",
              "9  101603       1238       1    2.443280"
            ]
          },
          "metadata": {
            "tags": []
          },
          "execution_count": 13
        }
      ]
    },
    {
      "cell_type": "code",
      "metadata": {
        "id": "Jt6KqNr7OWY7",
        "outputId": "aa53dad6-acfa-4cdb-c752-9d2677e886d6",
        "colab": {
          "base_uri": "https://localhost:8080/",
          "height": 34
        }
      },
      "source": [
        "evaluator.evaluate(predictions_test.select(F.col(\"Rating\"), F.col(\"prediction\")))"
      ],
      "execution_count": 14,
      "outputs": [
        {
          "output_type": "execute_result",
          "data": {
            "text/plain": [
              "1.848212846784886"
            ]
          },
          "metadata": {
            "tags": []
          },
          "execution_count": 14
        }
      ]
    },
    {
      "cell_type": "code",
      "metadata": {
        "id": "2aW1f4e_OWY-",
        "outputId": "48e5f543-08f7-4802-898c-97075acfe254",
        "colab": {
          "base_uri": "https://localhost:8080/",
          "height": 34
        }
      },
      "source": [
        "mae = RegressionEvaluator(metricName=\"mae\", labelCol=\"Rating\", predictionCol=\"prediction\")\n",
        "\n",
        "mae.evaluate(predictions_test.select(F.col(\"Rating\"), F.col(\"prediction\")))"
      ],
      "execution_count": 15,
      "outputs": [
        {
          "output_type": "execute_result",
          "data": {
            "text/plain": [
              "1.3045357958899797"
            ]
          },
          "metadata": {
            "tags": []
          },
          "execution_count": 15
        }
      ]
    },
    {
      "cell_type": "markdown",
      "metadata": {
        "id": "x51n7JIHmZpt"
      },
      "source": [
        "#10k sample"
      ]
    },
    {
      "cell_type": "markdown",
      "metadata": {
        "id": "1MsBsLN3mdY0"
      },
      "source": [
        "3. Load the following dataset : ```http://www.occamslab.com/petricek/data/ratings.dat```"
      ]
    },
    {
      "cell_type": "code",
      "metadata": {
        "id": "QGmZJLO2mdY1",
        "outputId": "39323597-0b79-42c3-9528-d79a4d93a761",
        "colab": {
          "base_uri": "https://localhost:8080/",
          "height": 203
        }
      },
      "source": [
        "ratings = pd.read_csv(\"http://www.occamslab.com/petricek/data/ratings.dat\", header=None)\n",
        "ratings.columns=[\"UserID\", \"ProfileID\", \"Rating\"]\n",
        "sample_ID = ratings[\"UserID\"].sample(10000)\n",
        "rows_to_keep = ratings[\"UserID\"].isin(sample_ID)\n",
        "ratings = ratings.loc[rows_to_keep,:]\n",
        "ratings.head()"
      ],
      "execution_count": 16,
      "outputs": [
        {
          "output_type": "execute_result",
          "data": {
            "text/html": [
              "<div>\n",
              "<style scoped>\n",
              "    .dataframe tbody tr th:only-of-type {\n",
              "        vertical-align: middle;\n",
              "    }\n",
              "\n",
              "    .dataframe tbody tr th {\n",
              "        vertical-align: top;\n",
              "    }\n",
              "\n",
              "    .dataframe thead th {\n",
              "        text-align: right;\n",
              "    }\n",
              "</style>\n",
              "<table border=\"1\" class=\"dataframe\">\n",
              "  <thead>\n",
              "    <tr style=\"text-align: right;\">\n",
              "      <th></th>\n",
              "      <th>UserID</th>\n",
              "      <th>ProfileID</th>\n",
              "      <th>Rating</th>\n",
              "    </tr>\n",
              "  </thead>\n",
              "  <tbody>\n",
              "    <tr>\n",
              "      <th>8465</th>\n",
              "      <td>60</td>\n",
              "      <td>425</td>\n",
              "      <td>2</td>\n",
              "    </tr>\n",
              "    <tr>\n",
              "      <th>8466</th>\n",
              "      <td>60</td>\n",
              "      <td>437</td>\n",
              "      <td>10</td>\n",
              "    </tr>\n",
              "    <tr>\n",
              "      <th>8467</th>\n",
              "      <td>60</td>\n",
              "      <td>538</td>\n",
              "      <td>6</td>\n",
              "    </tr>\n",
              "    <tr>\n",
              "      <th>8468</th>\n",
              "      <td>60</td>\n",
              "      <td>2250</td>\n",
              "      <td>1</td>\n",
              "    </tr>\n",
              "    <tr>\n",
              "      <th>8469</th>\n",
              "      <td>60</td>\n",
              "      <td>2294</td>\n",
              "      <td>5</td>\n",
              "    </tr>\n",
              "  </tbody>\n",
              "</table>\n",
              "</div>"
            ],
            "text/plain": [
              "      UserID  ProfileID  Rating\n",
              "8465      60        425       2\n",
              "8466      60        437      10\n",
              "8467      60        538       6\n",
              "8468      60       2250       1\n",
              "8469      60       2294       5"
            ]
          },
          "metadata": {
            "tags": []
          },
          "execution_count": 16
        }
      ]
    },
    {
      "cell_type": "code",
      "metadata": {
        "id": "eO0a11Jp-fAF",
        "outputId": "a7dee5f3-b7ef-4ae0-be66-bb11962ee1ec",
        "colab": {
          "base_uri": "https://localhost:8080/",
          "height": 34
        }
      },
      "source": [
        "ratings.shape"
      ],
      "execution_count": 26,
      "outputs": [
        {
          "output_type": "execute_result",
          "data": {
            "text/plain": [
              "(4594276, 3)"
            ]
          },
          "metadata": {
            "tags": []
          },
          "execution_count": 26
        }
      ]
    },
    {
      "cell_type": "markdown",
      "metadata": {
        "id": "aWh6Po5pmdY8"
      },
      "source": [
        "4. Transform the dataset into a Spark DataFrame and call it rating"
      ]
    },
    {
      "cell_type": "code",
      "metadata": {
        "id": "nJ080ijJmdY9"
      },
      "source": [
        "rating = spark.createDataFrame(ratings)"
      ],
      "execution_count": 17,
      "outputs": []
    },
    {
      "cell_type": "code",
      "metadata": {
        "id": "MjsG2NmZmdZD",
        "outputId": "96ebf1a4-927b-47be-8c68-06165eaeda80",
        "colab": {
          "base_uri": "https://localhost:8080/",
          "height": 358
        }
      },
      "source": [
        "rating.limit(10).toPandas()"
      ],
      "execution_count": 18,
      "outputs": [
        {
          "output_type": "execute_result",
          "data": {
            "text/html": [
              "<div>\n",
              "<style scoped>\n",
              "    .dataframe tbody tr th:only-of-type {\n",
              "        vertical-align: middle;\n",
              "    }\n",
              "\n",
              "    .dataframe tbody tr th {\n",
              "        vertical-align: top;\n",
              "    }\n",
              "\n",
              "    .dataframe thead th {\n",
              "        text-align: right;\n",
              "    }\n",
              "</style>\n",
              "<table border=\"1\" class=\"dataframe\">\n",
              "  <thead>\n",
              "    <tr style=\"text-align: right;\">\n",
              "      <th></th>\n",
              "      <th>UserID</th>\n",
              "      <th>ProfileID</th>\n",
              "      <th>Rating</th>\n",
              "    </tr>\n",
              "  </thead>\n",
              "  <tbody>\n",
              "    <tr>\n",
              "      <th>0</th>\n",
              "      <td>60</td>\n",
              "      <td>425</td>\n",
              "      <td>2</td>\n",
              "    </tr>\n",
              "    <tr>\n",
              "      <th>1</th>\n",
              "      <td>60</td>\n",
              "      <td>437</td>\n",
              "      <td>10</td>\n",
              "    </tr>\n",
              "    <tr>\n",
              "      <th>2</th>\n",
              "      <td>60</td>\n",
              "      <td>538</td>\n",
              "      <td>6</td>\n",
              "    </tr>\n",
              "    <tr>\n",
              "      <th>3</th>\n",
              "      <td>60</td>\n",
              "      <td>2250</td>\n",
              "      <td>1</td>\n",
              "    </tr>\n",
              "    <tr>\n",
              "      <th>4</th>\n",
              "      <td>60</td>\n",
              "      <td>2294</td>\n",
              "      <td>5</td>\n",
              "    </tr>\n",
              "    <tr>\n",
              "      <th>5</th>\n",
              "      <td>60</td>\n",
              "      <td>2393</td>\n",
              "      <td>6</td>\n",
              "    </tr>\n",
              "    <tr>\n",
              "      <th>6</th>\n",
              "      <td>60</td>\n",
              "      <td>2524</td>\n",
              "      <td>5</td>\n",
              "    </tr>\n",
              "    <tr>\n",
              "      <th>7</th>\n",
              "      <td>60</td>\n",
              "      <td>3454</td>\n",
              "      <td>4</td>\n",
              "    </tr>\n",
              "    <tr>\n",
              "      <th>8</th>\n",
              "      <td>60</td>\n",
              "      <td>4860</td>\n",
              "      <td>10</td>\n",
              "    </tr>\n",
              "    <tr>\n",
              "      <th>9</th>\n",
              "      <td>60</td>\n",
              "      <td>5209</td>\n",
              "      <td>10</td>\n",
              "    </tr>\n",
              "  </tbody>\n",
              "</table>\n",
              "</div>"
            ],
            "text/plain": [
              "   UserID  ProfileID  Rating\n",
              "0      60        425       2\n",
              "1      60        437      10\n",
              "2      60        538       6\n",
              "3      60       2250       1\n",
              "4      60       2294       5\n",
              "5      60       2393       6\n",
              "6      60       2524       5\n",
              "7      60       3454       4\n",
              "8      60       4860      10\n",
              "9      60       5209      10"
            ]
          },
          "metadata": {
            "tags": []
          },
          "execution_count": 18
        }
      ]
    },
    {
      "cell_type": "markdown",
      "metadata": {
        "id": "n3lVqnhvmdZH"
      },
      "source": [
        "#1. Pre processing"
      ]
    },
    {
      "cell_type": "markdown",
      "metadata": {
        "id": "6_Lcts7qmdZI"
      },
      "source": [
        "#2. Entrainement"
      ]
    },
    {
      "cell_type": "markdown",
      "metadata": {
        "id": "t9tzGtnhmdZI"
      },
      "source": [
        "1. Split the data between train and test"
      ]
    },
    {
      "cell_type": "code",
      "metadata": {
        "id": "1qIrMzAzmdZJ"
      },
      "source": [
        "\n",
        "train, test = rating.randomSplit([0.8, 0.2])"
      ],
      "execution_count": 19,
      "outputs": []
    },
    {
      "cell_type": "markdown",
      "metadata": {
        "id": "wrQK7IxlmdZM"
      },
      "source": [
        "2. Create an instance of the ALS model and try and find the best rank for the implicit variables space thanks to a cross-validator."
      ]
    },
    {
      "cell_type": "code",
      "metadata": {
        "id": "PWMY2VwZmdZN"
      },
      "source": [
        "als = ALS(userCol=\"UserID\", itemCol=\"ProfileID\", ratingCol=\"Rating\", coldStartStrategy=\"drop\", nonnegative=True)\n",
        "\n",
        "evaluator = RegressionEvaluator(metricName=\"rmse\", labelCol=\"Rating\", predictionCol=\"prediction\")\n",
        "\n",
        "paramGrid = ParamGridBuilder() \\\n",
        "                    .addGrid(als.rank, [5, 10, 20]) \\\n",
        "                    .addGrid(als.maxIter,[5]) \\\n",
        "                    .build()\n",
        "\n",
        "cv = CrossValidator(\n",
        "  estimator=als, \n",
        "  evaluator=evaluator, \n",
        "  estimatorParamMaps=paramGrid, \n",
        "  numFolds=5\n",
        ")"
      ],
      "execution_count": 20,
      "outputs": []
    },
    {
      "cell_type": "markdown",
      "metadata": {
        "id": "hF6bLDLrmdZP"
      },
      "source": [
        "3. Fit the model"
      ]
    },
    {
      "cell_type": "code",
      "metadata": {
        "id": "Q3QsYd82mdZQ",
        "outputId": "d5d17163-f327-4cb8-cfa4-5bf6ba8eea78",
        "colab": {
          "base_uri": "https://localhost:8080/",
          "height": 52
        }
      },
      "source": [
        "%time model = cv.fit(train)"
      ],
      "execution_count": 21,
      "outputs": [
        {
          "output_type": "stream",
          "text": [
            "CPU times: user 1.93 s, sys: 440 ms, total: 2.37 s\n",
            "Wall time: 11min 1s\n"
          ],
          "name": "stdout"
        }
      ]
    },
    {
      "cell_type": "markdown",
      "metadata": {
        "id": "d6c6WbkDmdZS"
      },
      "source": [
        "#3. Evaluation et analyse"
      ]
    },
    {
      "cell_type": "markdown",
      "metadata": {
        "id": "MaDyjoySmdZT"
      },
      "source": [
        "1. Create an object predictions_test that contains the predictions of the model for the test set."
      ]
    },
    {
      "cell_type": "code",
      "metadata": {
        "id": "wirrXRy7mdZU"
      },
      "source": [
        "predictions_test = model.transform(test)"
      ],
      "execution_count": 22,
      "outputs": []
    },
    {
      "cell_type": "code",
      "metadata": {
        "id": "8lZzRXQJmdZW",
        "outputId": "3e314d4b-647c-4f46-fae3-08e374a6b8a6",
        "colab": {
          "base_uri": "https://localhost:8080/",
          "height": 358
        }
      },
      "source": [
        "predictions_test.limit(10).toPandas()"
      ],
      "execution_count": 23,
      "outputs": [
        {
          "output_type": "execute_result",
          "data": {
            "text/html": [
              "<div>\n",
              "<style scoped>\n",
              "    .dataframe tbody tr th:only-of-type {\n",
              "        vertical-align: middle;\n",
              "    }\n",
              "\n",
              "    .dataframe tbody tr th {\n",
              "        vertical-align: top;\n",
              "    }\n",
              "\n",
              "    .dataframe thead th {\n",
              "        text-align: right;\n",
              "    }\n",
              "</style>\n",
              "<table border=\"1\" class=\"dataframe\">\n",
              "  <thead>\n",
              "    <tr style=\"text-align: right;\">\n",
              "      <th></th>\n",
              "      <th>UserID</th>\n",
              "      <th>ProfileID</th>\n",
              "      <th>Rating</th>\n",
              "      <th>prediction</th>\n",
              "    </tr>\n",
              "  </thead>\n",
              "  <tbody>\n",
              "    <tr>\n",
              "      <th>0</th>\n",
              "      <td>10422</td>\n",
              "      <td>1238</td>\n",
              "      <td>10</td>\n",
              "      <td>6.508227</td>\n",
              "    </tr>\n",
              "    <tr>\n",
              "      <th>1</th>\n",
              "      <td>29768</td>\n",
              "      <td>1238</td>\n",
              "      <td>1</td>\n",
              "      <td>3.488112</td>\n",
              "    </tr>\n",
              "    <tr>\n",
              "      <th>2</th>\n",
              "      <td>85372</td>\n",
              "      <td>1238</td>\n",
              "      <td>6</td>\n",
              "      <td>5.330770</td>\n",
              "    </tr>\n",
              "    <tr>\n",
              "      <th>3</th>\n",
              "      <td>121114</td>\n",
              "      <td>1238</td>\n",
              "      <td>5</td>\n",
              "      <td>5.229730</td>\n",
              "    </tr>\n",
              "    <tr>\n",
              "      <th>4</th>\n",
              "      <td>87914</td>\n",
              "      <td>1238</td>\n",
              "      <td>1</td>\n",
              "      <td>1.738758</td>\n",
              "    </tr>\n",
              "    <tr>\n",
              "      <th>5</th>\n",
              "      <td>25545</td>\n",
              "      <td>1238</td>\n",
              "      <td>2</td>\n",
              "      <td>5.605457</td>\n",
              "    </tr>\n",
              "    <tr>\n",
              "      <th>6</th>\n",
              "      <td>133363</td>\n",
              "      <td>1238</td>\n",
              "      <td>10</td>\n",
              "      <td>4.770642</td>\n",
              "    </tr>\n",
              "    <tr>\n",
              "      <th>7</th>\n",
              "      <td>104374</td>\n",
              "      <td>1238</td>\n",
              "      <td>6</td>\n",
              "      <td>2.897765</td>\n",
              "    </tr>\n",
              "    <tr>\n",
              "      <th>8</th>\n",
              "      <td>58765</td>\n",
              "      <td>1238</td>\n",
              "      <td>10</td>\n",
              "      <td>4.158329</td>\n",
              "    </tr>\n",
              "    <tr>\n",
              "      <th>9</th>\n",
              "      <td>70741</td>\n",
              "      <td>1238</td>\n",
              "      <td>4</td>\n",
              "      <td>4.879954</td>\n",
              "    </tr>\n",
              "  </tbody>\n",
              "</table>\n",
              "</div>"
            ],
            "text/plain": [
              "   UserID  ProfileID  Rating  prediction\n",
              "0   10422       1238      10    6.508227\n",
              "1   29768       1238       1    3.488112\n",
              "2   85372       1238       6    5.330770\n",
              "3  121114       1238       5    5.229730\n",
              "4   87914       1238       1    1.738758\n",
              "5   25545       1238       2    5.605457\n",
              "6  133363       1238      10    4.770642\n",
              "7  104374       1238       6    2.897765\n",
              "8   58765       1238      10    4.158329\n",
              "9   70741       1238       4    4.879954"
            ]
          },
          "metadata": {
            "tags": []
          },
          "execution_count": 23
        }
      ]
    },
    {
      "cell_type": "code",
      "metadata": {
        "id": "hqXuB0sPmdZZ",
        "outputId": "033a038d-3b0e-4f95-ad94-d2862e2aaf01",
        "colab": {
          "base_uri": "https://localhost:8080/",
          "height": 34
        }
      },
      "source": [
        "evaluator.evaluate(predictions_test.select(F.col(\"Rating\"), F.col(\"prediction\")))"
      ],
      "execution_count": 24,
      "outputs": [
        {
          "output_type": "execute_result",
          "data": {
            "text/plain": [
              "1.9935715121363318"
            ]
          },
          "metadata": {
            "tags": []
          },
          "execution_count": 24
        }
      ]
    },
    {
      "cell_type": "code",
      "metadata": {
        "id": "HrVnHikrmdZc",
        "outputId": "44ac40a8-e4b3-4885-c69f-00645ff0a5b6",
        "colab": {
          "base_uri": "https://localhost:8080/",
          "height": 34
        }
      },
      "source": [
        "mae = RegressionEvaluator(metricName=\"mae\", labelCol=\"Rating\", predictionCol=\"prediction\")\n",
        "\n",
        "mae.evaluate(predictions_test.select(F.col(\"Rating\"), F.col(\"prediction\")))"
      ],
      "execution_count": 25,
      "outputs": [
        {
          "output_type": "execute_result",
          "data": {
            "text/plain": [
              "1.4298358608081527"
            ]
          },
          "metadata": {
            "tags": []
          },
          "execution_count": 25
        }
      ]
    },
    {
      "cell_type": "code",
      "metadata": {
        "id": "YAydz8OMmFvZ"
      },
      "source": [
        ""
      ],
      "execution_count": null,
      "outputs": []
    }
  ]
}