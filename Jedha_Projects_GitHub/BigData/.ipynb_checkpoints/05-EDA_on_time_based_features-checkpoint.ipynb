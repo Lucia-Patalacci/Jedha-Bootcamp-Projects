{
 "cells": [
  {
   "cell_type": "markdown",
   "metadata": {
    "colab_type": "text",
    "id": "Byi_BXq9SU8y"
   },
   "source": [
    "# EDA on time-based features"
   ]
  },
  {
   "cell_type": "code",
   "execution_count": null,
   "metadata": {
    "colab": {},
    "colab_type": "code",
    "id": "92YELhPySU80"
   },
   "outputs": [],
   "source": [
    "S3_RESOURCE = 's3'\n",
    "SCHEME = 's3a'\n",
    "# TODO\n",
    "BUCKET_NAME = ''\n",
    "PREFIX = ''\n",
    "### BEGIN STRIP ###\n",
    "BUCKET_NAME = 'nibble-clients'\n",
    "PREFIX = 'jedha/PySpark-Cloud/data/'\n",
    "### END STRIP ###\n",
    "INPUT_FILENAME = 'playlog_processed.parquet'"
   ]
  },
  {
   "cell_type": "code",
   "execution_count": null,
   "metadata": {
    "colab": {},
    "colab_type": "code",
    "id": "tUWS-GBoSU89"
   },
   "outputs": [],
   "source": [
    "def get_s3_path(key, bucket_name=BUCKET_NAME, scheme=SCHEME):\n",
    "    return f\"{scheme}://{bucket_name}/{key}\""
   ]
  },
  {
   "cell_type": "code",
   "execution_count": null,
   "metadata": {
    "colab": {
     "base_uri": "https://localhost:8080/",
     "height": 232
    },
    "colab_type": "code",
    "executionInfo": {
     "elapsed": 896,
     "status": "error",
     "timestamp": 1600853580805,
     "user": {
      "displayName": "Patrick Lavigne",
      "photoUrl": "",
      "userId": "11412629523243672339"
     },
     "user_tz": -120
    },
    "id": "b8kO9DFWSU9B",
    "outputId": "44a5dc14-75fb-4afd-842b-27637021cf82"
   },
   "outputs": [
    {
     "ename": "NameError",
     "evalue": "ignored",
     "output_type": "error",
     "traceback": [
      "\u001b[0;31m---------------------------------------------------------------------------\u001b[0m",
      "\u001b[0;31mNameError\u001b[0m                                 Traceback (most recent call last)",
      "\u001b[0;32m<ipython-input-3-62234e32b649>\u001b[0m in \u001b[0;36m<module>\u001b[0;34m()\u001b[0m\n\u001b[1;32m      1\u001b[0m \u001b[0;31m# TODO: load data\u001b[0m\u001b[0;34m\u001b[0m\u001b[0;34m\u001b[0m\u001b[0;34m\u001b[0m\u001b[0m\n\u001b[1;32m      2\u001b[0m \u001b[0;31m### BEGIN STRIP ###\u001b[0m\u001b[0;34m\u001b[0m\u001b[0;34m\u001b[0m\u001b[0;34m\u001b[0m\u001b[0m\n\u001b[0;32m----> 3\u001b[0;31m \u001b[0mdf_raw\u001b[0m \u001b[0;34m=\u001b[0m \u001b[0mspark\u001b[0m\u001b[0;34m.\u001b[0m\u001b[0mread\u001b[0m\u001b[0;34m.\u001b[0m\u001b[0mload\u001b[0m\u001b[0;34m(\u001b[0m\u001b[0mget_s3_path\u001b[0m\u001b[0;34m(\u001b[0m\u001b[0;34mf'{PREFIX}/interim/{INPUT_FILENAME}'\u001b[0m\u001b[0;34m)\u001b[0m\u001b[0;34m)\u001b[0m\u001b[0;34m\u001b[0m\u001b[0;34m\u001b[0m\u001b[0m\n\u001b[0m\u001b[1;32m      4\u001b[0m \u001b[0mdf_raw\u001b[0m\u001b[0;34m.\u001b[0m\u001b[0mcount\u001b[0m\u001b[0;34m(\u001b[0m\u001b[0;34m)\u001b[0m\u001b[0;34m\u001b[0m\u001b[0;34m\u001b[0m\u001b[0m\n\u001b[1;32m      5\u001b[0m \u001b[0;31m### END STRIP ###\u001b[0m\u001b[0;34m\u001b[0m\u001b[0;34m\u001b[0m\u001b[0;34m\u001b[0m\u001b[0m\n",
      "\u001b[0;31mNameError\u001b[0m: name 'spark' is not defined"
     ]
    }
   ],
   "source": [
    "# TODO: load data\n",
    "### BEGIN STRIP ###\n",
    "df_raw = spark.read.load(get_s3_path(f'{PREFIX}/interim/{INPUT_FILENAME}'))\n",
    "df_raw.count()\n",
    "### END STRIP ###"
   ]
  },
  {
   "cell_type": "code",
   "execution_count": null,
   "metadata": {
    "colab": {},
    "colab_type": "code",
    "id": "GYDvJ-ZqSU9H",
    "outputId": "0e4431d5-cbcc-43bb-90ca-6b01e9daf3f2"
   },
   "outputs": [
    {
     "data": {
      "text/html": [
       "<div>\n",
       "<style scoped>\n",
       "    .dataframe tbody tr th:only-of-type {\n",
       "        vertical-align: middle;\n",
       "    }\n",
       "\n",
       "    .dataframe tbody tr th {\n",
       "        vertical-align: top;\n",
       "    }\n",
       "\n",
       "    .dataframe thead th {\n",
       "        text-align: right;\n",
       "    }\n",
       "</style>\n",
       "<table border=\"1\" class=\"dataframe\">\n",
       "  <thead>\n",
       "    <tr style=\"text-align: right;\">\n",
       "      <th></th>\n",
       "      <th>timestamp</th>\n",
       "      <th>user</th>\n",
       "      <th>song</th>\n",
       "    </tr>\n",
       "  </thead>\n",
       "  <tbody>\n",
       "    <tr>\n",
       "      <th>0</th>\n",
       "      <td>1415093932</td>\n",
       "      <td>22406</td>\n",
       "      <td>5CtwSKr1ZuQ</td>\n",
       "    </tr>\n",
       "    <tr>\n",
       "      <th>1</th>\n",
       "      <td>1415093933</td>\n",
       "      <td>312</td>\n",
       "      <td>L_1zmwZswS8</td>\n",
       "    </tr>\n",
       "    <tr>\n",
       "      <th>2</th>\n",
       "      <td>1415093934</td>\n",
       "      <td>14586</td>\n",
       "      <td>aaceHGDhUiI</td>\n",
       "    </tr>\n",
       "    <tr>\n",
       "      <th>3</th>\n",
       "      <td>1415093934</td>\n",
       "      <td>19635</td>\n",
       "      <td>cYMCLz5PQVw</td>\n",
       "    </tr>\n",
       "    <tr>\n",
       "      <th>4</th>\n",
       "      <td>1415093937</td>\n",
       "      <td>11272</td>\n",
       "      <td>eMrI0yIUXFg</td>\n",
       "    </tr>\n",
       "  </tbody>\n",
       "</table>\n",
       "</div>"
      ]
     },
     "metadata": {
      "tags": []
     },
     "output_type": "display_data"
    }
   ],
   "source": [
    "# As a refresher\n",
    "df_raw.limit(5).toPandas()"
   ]
  },
  {
   "cell_type": "code",
   "execution_count": null,
   "metadata": {
    "colab": {},
    "colab_type": "code",
    "id": "zRBpbB_MSU9L",
    "outputId": "cde22ee5-e697-49b8-b24f-008800878ecd"
   },
   "outputs": [
    {
     "data": {
      "text/html": [
       "<style scoped>\n",
       "  .ansiout {\n",
       "    display: block;\n",
       "    unicode-bidi: embed;\n",
       "    white-space: pre-wrap;\n",
       "    word-wrap: break-word;\n",
       "    word-break: break-all;\n",
       "    font-family: \"Source Code Pro\", \"Menlo\", monospace;;\n",
       "    font-size: 13px;\n",
       "    color: #555;\n",
       "    margin-left: 4px;\n",
       "    line-height: 19px;\n",
       "  }\n",
       "</style>\n",
       "<div class=\"ansiout\">+-------------------+----+-----------+\n",
       "           datetime|user|       song|\n",
       "+-------------------+----+-----------+\n",
       "2014-02-14 14:18:53|   0|t1l8Z6gLPzo|\n",
       "2014-02-14 14:18:57|  70|VJ6ofd0pB_c|\n",
       "2014-02-14 14:18:57|  22|Q24VZL8wpOM|\n",
       "2014-02-14 14:18:58|   1|t1l8Z6gLPzo|\n",
       "2014-02-14 14:18:59|  40|d12dJbE_xxw|\n",
       "+-------------------+----+-----------+\n",
       "only showing top 5 rows\n",
       "\n",
       "</div>"
      ]
     },
     "metadata": {
      "tags": []
     },
     "output_type": "display_data"
    }
   ],
   "source": [
    "# TODO: compute a new column `datetime`\n",
    "#       that converts the timestamp to a datetime\n",
    "#       drop the `timestamp` column\n",
    "#       and order by `datetime`\n",
    "#       save this as a new DataFrame `df`\n",
    "#       show the first 5 rows of `df`\n",
    "### BEGIN STRIP ###\n",
    "from pyspark.sql import functions as F\n",
    "\n",
    "df = (df_raw.withColumn('datetime', F.from_unixtime('timestamp')) \\\n",
    "      .drop('timestamp') \\\n",
    "      .orderBy('datetime') \\\n",
    "      .select('datetime', 'user', 'song'))\n",
    "df.show(5)\n",
    "### END STRIP ###"
   ]
  },
  {
   "cell_type": "markdown",
   "metadata": {
    "colab_type": "text",
    "id": "_E568KT7SU9P"
   },
   "source": [
    "Now that we have a datetime column, we can compute new columns, namely:\n",
    "- [year](http://spark.apache.org/docs/latest/api/python/pyspark.sql.html?highlight=date#pyspark.sql.functions.year)\n",
    "- [month](http://spark.apache.org/docs/latest/api/python/pyspark.sql.html?highlight=date#pyspark.sql.functions.month)\n",
    "- [dayofmonth](http://spark.apache.org/docs/latest/api/python/pyspark.sql.html?highlight=date#pyspark.sql.functions.dayofmonth)\n",
    "- [dayofweek](http://spark.apache.org/docs/latest/api/python/pyspark.sql.html?highlight=date#pyspark.sql.functions.dayofweek)\n",
    "- [dayofyear](http://spark.apache.org/docs/latest/api/python/pyspark.sql.html?highlight=date#pyspark.sql.functions.dayofyear)\n",
    "- [weekofyear](http://spark.apache.org/docs/latest/api/python/pyspark.sql.html?highlight=date#pyspark.sql.functions.weekofyear)\n",
    "\n",
    "We will put the resulting DataFrame in a variable called `df_enriched`."
   ]
  },
  {
   "cell_type": "code",
   "execution_count": null,
   "metadata": {
    "colab": {},
    "colab_type": "code",
    "id": "tsivHgoxSU9Q",
    "outputId": "6a6b793b-034b-4ded-86f0-72365ed9b45f"
   },
   "outputs": [
    {
     "data": {
      "text/html": [
       "<style scoped>\n",
       "  .ansiout {\n",
       "    display: block;\n",
       "    unicode-bidi: embed;\n",
       "    white-space: pre-wrap;\n",
       "    word-wrap: break-word;\n",
       "    word-break: break-all;\n",
       "    font-family: \"Source Code Pro\", \"Menlo\", monospace;;\n",
       "    font-size: 13px;\n",
       "    color: #555;\n",
       "    margin-left: 4px;\n",
       "    line-height: 19px;\n",
       "  }\n",
       "</style>\n",
       "<div class=\"ansiout\">+-------------------+----+-----------+----+-----+----------+---------+---------+----------+\n",
       "           datetime|user|       song|year|month|dayofmonth|dayofweek|dayofyear|weekofyear|\n",
       "+-------------------+----+-----------+----+-----+----------+---------+---------+----------+\n",
       "2014-02-14 14:18:53|   0|t1l8Z6gLPzo|2014|    2|        14|        6|       45|         7|\n",
       "2014-02-14 14:18:57|  70|VJ6ofd0pB_c|2014|    2|        14|        6|       45|         7|\n",
       "2014-02-14 14:18:57|  22|Q24VZL8wpOM|2014|    2|        14|        6|       45|         7|\n",
       "2014-02-14 14:18:58|   1|t1l8Z6gLPzo|2014|    2|        14|        6|       45|         7|\n",
       "2014-02-14 14:18:59|  40|d12dJbE_xxw|2014|    2|        14|        6|       45|         7|\n",
       "2014-02-14 14:19:04|  73|OrxxHlRs85U|2014|    2|        14|        6|       45|         7|\n",
       "2014-02-14 14:19:12|  38|guKoNCQFAFk|2014|    2|        14|        6|       45|         7|\n",
       "2014-02-14 14:19:16|   2|t1l8Z6gLPzo|2014|    2|        14|        6|       45|         7|\n",
       "2014-02-14 14:19:16|  43|WGEYWgSGx9A|2014|    2|        14|        6|       45|         7|\n",
       "2014-02-14 14:19:21|   3|we5gzZq5Avg|2014|    2|        14|        6|       45|         7|\n",
       "2014-02-14 14:19:21|  36|6dQ__nEY3ts|2014|    2|        14|        6|       45|         7|\n",
       "2014-02-14 14:19:26|   4|we5gzZq5Avg|2014|    2|        14|        6|       45|         7|\n",
       "2014-02-14 14:19:26|   5|we5gzZq5Avg|2014|    2|        14|        6|       45|         7|\n",
       "2014-02-14 14:19:26| 119|idHAwYjSNCk|2014|    2|        14|        6|       45|         7|\n",
       "2014-02-14 14:19:27|   6|49esza4eiK4|2014|    2|        14|        6|       45|         7|\n",
       "2014-02-14 14:19:31|  45|t6bjqdll7DI|2014|    2|        14|        6|       45|         7|\n",
       "2014-02-14 14:19:32|  95|F5pzQviQZwE|2014|    2|        14|        6|       45|         7|\n",
       "2014-02-14 14:19:34|   6|49esza4eiK4|2014|    2|        14|        6|       45|         7|\n",
       "2014-02-14 14:19:36|   6|VKzWLUQizz8|2014|    2|        14|        6|       45|         7|\n",
       "2014-02-14 14:19:38|  52|VwvphO-Oyu4|2014|    2|        14|        6|       45|         7|\n",
       "+-------------------+----+-----------+----+-----+----------+---------+---------+----------+\n",
       "only showing top 20 rows\n",
       "\n",
       "</div>"
      ]
     },
     "metadata": {
      "tags": []
     },
     "output_type": "display_data"
    }
   ],
   "source": [
    "# TODO: follow previous instructions\n",
    "### BEGIN STRIP ###\n",
    "from functools import reduce\n",
    "\n",
    "funcs = [F.year, F.month, F.dayofmonth, F.dayofweek, F.dayofyear, F.weekofyear]\n",
    "\n",
    "df_enriched = reduce(\n",
    "  lambda memo_df, f: memo_df.withColumn(f.__name__, f('datetime')),\n",
    "  funcs, df)\n",
    "\n",
    "# Or, alternatively\n",
    "# df_enriched = df.select('*', *(f('datetime').alias(f.__name__) for f in funcs))\n",
    "\n",
    "df_enriched.show()\n",
    "### END STRIP ###"
   ]
  },
  {
   "cell_type": "code",
   "execution_count": null,
   "metadata": {
    "colab": {},
    "colab_type": "code",
    "id": "m3ACujU5SU9U",
    "outputId": "e0188fb1-2405-4553-be65-17958909a881"
   },
   "outputs": [
    {
     "data": {
      "text/html": [
       "<style scoped>\n",
       "  .ansiout {\n",
       "    display: block;\n",
       "    unicode-bidi: embed;\n",
       "    white-space: pre-wrap;\n",
       "    word-wrap: break-word;\n",
       "    word-break: break-all;\n",
       "    font-family: \"Source Code Pro\", \"Menlo\", monospace;;\n",
       "    font-size: 13px;\n",
       "    color: #555;\n",
       "    margin-left: 4px;\n",
       "    line-height: 19px;\n",
       "  }\n",
       "</style>\n",
       "<div class=\"ansiout\">root\n",
       "-- datetime: string (nullable = true)\n",
       "-- user: integer (nullable = true)\n",
       "-- song: string (nullable = true)\n",
       "-- year: integer (nullable = true)\n",
       "-- month: integer (nullable = true)\n",
       "-- dayofmonth: integer (nullable = true)\n",
       "-- dayofweek: integer (nullable = true)\n",
       "-- dayofyear: integer (nullable = true)\n",
       "-- weekofyear: integer (nullable = true)\n",
       "\n",
       "</div>"
      ]
     },
     "metadata": {
      "tags": []
     },
     "output_type": "display_data"
    }
   ],
   "source": [
    "# TODO: print out the schema of the new dataframe\n",
    "### BEGIN STRIP ###\n",
    "df_enriched.printSchema()\n",
    "### END STRIP ###"
   ]
  },
  {
   "cell_type": "code",
   "execution_count": null,
   "metadata": {
    "colab": {},
    "colab_type": "code",
    "id": "uclUhYHvSU9d",
    "outputId": "8d9c342f-6746-4af5-d1a4-8f11a6399720"
   },
   "outputs": [
    {
     "data": {
      "text/html": [
       "<style scoped>\n",
       "  .table-result-container {\n",
       "    max-height: 300px;\n",
       "    overflow: auto;\n",
       "  }\n",
       "  table, th, td {\n",
       "    border: 1px solid black;\n",
       "    border-collapse: collapse;\n",
       "  }\n",
       "  th, td {\n",
       "    padding: 5px;\n",
       "  }\n",
       "  th {\n",
       "    text-align: left;\n",
       "  }\n",
       "</style><div class='table-result-container'><table class='table-result'><thead style='background-color: white'><tr><th>month</th><th>count</th></tr></thead><tbody><tr><td>1</td><td>2010671</td></tr><tr><td>2</td><td>2151021</td></tr><tr><td>3</td><td>2523459</td></tr><tr><td>4</td><td>2274812</td></tr><tr><td>5</td><td>2389084</td></tr><tr><td>6</td><td>2092306</td></tr><tr><td>7</td><td>1958010</td></tr><tr><td>8</td><td>1780897</td></tr><tr><td>9</td><td>1988767</td></tr><tr><td>10</td><td>2402561</td></tr><tr><td>11</td><td>2170971</td></tr><tr><td>12</td><td>1996977</td></tr></tbody></table></div>"
      ]
     },
     "metadata": {
      "tags": []
     },
     "output_type": "display_data"
    }
   ],
   "source": [
    "# Plot average of monthly counts\n",
    "### BEGIN STRIP ###\n",
    "display(df_enriched.groupBy('month').count().orderBy('month'))\n",
    "### END STRIP ###"
   ]
  },
  {
   "cell_type": "code",
   "execution_count": null,
   "metadata": {
    "colab": {},
    "colab_type": "code",
    "id": "7xGk-z5tSU9i",
    "outputId": "a6e26b8f-b50c-466d-dbcd-f13d74b6b5d3"
   },
   "outputs": [
    {
     "data": {
      "text/html": [
       "<style scoped>\n",
       "  .ansiout {\n",
       "    display: block;\n",
       "    unicode-bidi: embed;\n",
       "    white-space: pre-wrap;\n",
       "    word-wrap: break-word;\n",
       "    word-break: break-all;\n",
       "    font-family: \"Source Code Pro\", \"Menlo\", monospace;;\n",
       "    font-size: 13px;\n",
       "    color: #555;\n",
       "    margin-left: 4px;\n",
       "    line-height: 19px;\n",
       "  }\n",
       "</style>\n",
       "<div class=\"ansiout\"></div>"
      ]
     },
     "metadata": {
      "tags": []
     },
     "output_type": "display_data"
    }
   ],
   "source": [
    "# TODO: clean?\n",
    "### BEGIN STRIP ###\n",
    "def count_by_period(col_name, df):\n",
    "    return df.groupBy(col_name).count().orderBy(col_name)\n",
    "\n",
    "from functools import partial\n",
    "### END STRIP ###"
   ]
  },
  {
   "cell_type": "code",
   "execution_count": null,
   "metadata": {
    "colab": {},
    "colab_type": "code",
    "id": "jwwzI26DSU9m",
    "outputId": "c0f6a9a0-a89b-43fa-d450-9c283b4aac3e"
   },
   "outputs": [
    {
     "data": {
      "text/html": [
       "<style scoped>\n",
       "  .table-result-container {\n",
       "    max-height: 300px;\n",
       "    overflow: auto;\n",
       "  }\n",
       "  table, th, td {\n",
       "    border: 1px solid black;\n",
       "    border-collapse: collapse;\n",
       "  }\n",
       "  th, td {\n",
       "    padding: 5px;\n",
       "  }\n",
       "  th {\n",
       "    text-align: left;\n",
       "  }\n",
       "</style><div class='table-result-container'><table class='table-result'><thead style='background-color: white'><tr><th>year</th><th>count</th></tr></thead><tbody><tr><td>2014</td><td>8136227</td></tr><tr><td>2015</td><td>8158803</td></tr><tr><td>2016</td><td>6024269</td></tr><tr><td>2017</td><td>2471406</td></tr><tr><td>2018</td><td>823473</td></tr><tr><td>2019</td><td>125358</td></tr></tbody></table></div>"
      ]
     },
     "metadata": {
      "tags": []
     },
     "output_type": "display_data"
    }
   ],
   "source": [
    "# TODO: bar plot by year\n",
    "### BEGIN STRIP ###\n",
    "display(df_enriched.transform(partial(count_by_period, 'year')))\n",
    "### END STRIP ###"
   ]
  },
  {
   "cell_type": "code",
   "execution_count": null,
   "metadata": {
    "colab": {},
    "colab_type": "code",
    "id": "xzF4Ze_KSU9p",
    "outputId": "1eba8d32-a61a-4e2f-a620-7abe726fccf7"
   },
   "outputs": [
    {
     "data": {
      "text/html": [
       "<style scoped>\n",
       "  .table-result-container {\n",
       "    max-height: 300px;\n",
       "    overflow: auto;\n",
       "  }\n",
       "  table, th, td {\n",
       "    border: 1px solid black;\n",
       "    border-collapse: collapse;\n",
       "  }\n",
       "  th, td {\n",
       "    padding: 5px;\n",
       "  }\n",
       "  th {\n",
       "    text-align: left;\n",
       "  }\n",
       "</style><div class='table-result-container'><table class='table-result'><thead style='background-color: white'><tr><th>month</th><th>count</th></tr></thead><tbody><tr><td>1</td><td>2010671</td></tr><tr><td>2</td><td>2151021</td></tr><tr><td>3</td><td>2523459</td></tr><tr><td>4</td><td>2274812</td></tr><tr><td>5</td><td>2389084</td></tr><tr><td>6</td><td>2092306</td></tr><tr><td>7</td><td>1958010</td></tr><tr><td>8</td><td>1780897</td></tr><tr><td>9</td><td>1988767</td></tr><tr><td>10</td><td>2402561</td></tr><tr><td>11</td><td>2170971</td></tr><tr><td>12</td><td>1996977</td></tr></tbody></table></div>"
      ]
     },
     "metadata": {
      "tags": []
     },
     "output_type": "display_data"
    }
   ],
   "source": [
    "# TODO: bar plot by month\n",
    "### BEGIN STRIP ###\n",
    "display(df_enriched.transform(partial(count_by_period, 'month')))\n",
    "### END STRIP ###"
   ]
  },
  {
   "cell_type": "code",
   "execution_count": null,
   "metadata": {
    "colab": {},
    "colab_type": "code",
    "id": "2i2H7--CSU9u",
    "outputId": "4c83b296-387e-4a60-b065-a90871766236"
   },
   "outputs": [
    {
     "data": {
      "text/html": [
       "<style scoped>\n",
       "  .table-result-container {\n",
       "    max-height: 300px;\n",
       "    overflow: auto;\n",
       "  }\n",
       "  table, th, td {\n",
       "    border: 1px solid black;\n",
       "    border-collapse: collapse;\n",
       "  }\n",
       "  th, td {\n",
       "    padding: 5px;\n",
       "  }\n",
       "  th {\n",
       "    text-align: left;\n",
       "  }\n",
       "</style><div class='table-result-container'><table class='table-result'><thead style='background-color: white'><tr><th>weekofyear</th><th>count</th></tr></thead><tbody><tr><td>1</td><td>435209</td></tr><tr><td>2</td><td>424728</td></tr><tr><td>3</td><td>471778</td></tr><tr><td>4</td><td>497088</td></tr><tr><td>5</td><td>474106</td></tr><tr><td>6</td><td>477908</td></tr><tr><td>7</td><td>506421</td></tr><tr><td>8</td><td>582808</td></tr><tr><td>9</td><td>602185</td></tr><tr><td>10</td><td>569273</td></tr><tr><td>11</td><td>554322</td></tr><tr><td>12</td><td>560380</td></tr><tr><td>13</td><td>573297</td></tr><tr><td>14</td><td>547284</td></tr><tr><td>15</td><td>502076</td></tr><tr><td>16</td><td>515934</td></tr><tr><td>17</td><td>519579</td></tr><tr><td>18</td><td>584731</td></tr><tr><td>19</td><td>586675</td></tr><tr><td>20</td><td>539797</td></tr><tr><td>21</td><td>501374</td></tr><tr><td>22</td><td>498273</td></tr><tr><td>23</td><td>530269</td></tr><tr><td>24</td><td>484499</td></tr><tr><td>25</td><td>448337</td></tr><tr><td>26</td><td>476438</td></tr><tr><td>27</td><td>483854</td></tr><tr><td>28</td><td>442085</td></tr><tr><td>29</td><td>430964</td></tr><tr><td>30</td><td>421657</td></tr><tr><td>31</td><td>411536</td></tr><tr><td>32</td><td>383319</td></tr><tr><td>33</td><td>373252</td></tr><tr><td>34</td><td>425270</td></tr><tr><td>35</td><td>431227</td></tr><tr><td>36</td><td>437026</td></tr><tr><td>37</td><td>445282</td></tr><tr><td>38</td><td>464311</td></tr><tr><td>39</td><td>523136</td></tr><tr><td>40</td><td>478829</td></tr><tr><td>41</td><td>473483</td></tr><tr><td>42</td><td>535842</td></tr><tr><td>43</td><td>606675</td></tr><tr><td>44</td><td>561631</td></tr><tr><td>45</td><td>513661</td></tr><tr><td>46</td><td>512345</td></tr><tr><td>47</td><td>483239</td></tr><tr><td>48</td><td>513577</td></tr><tr><td>49</td><td>479579</td></tr><tr><td>50</td><td>491446</td></tr><tr><td>51</td><td>447056</td></tr><tr><td>52</td><td>385841</td></tr><tr><td>53</td><td>118644</td></tr></tbody></table></div>"
      ]
     },
     "metadata": {
      "tags": []
     },
     "output_type": "display_data"
    }
   ],
   "source": [
    "# TODO: bar plot by weekofyear\n",
    "### BEGIN STRIP ###\n",
    "display(df_enriched.transform(partial(count_by_period, 'weekofyear')))\n",
    "### END STRIP ###"
   ]
  },
  {
   "cell_type": "code",
   "execution_count": null,
   "metadata": {
    "colab": {},
    "colab_type": "code",
    "id": "C_IU7_ApSU9y",
    "outputId": "5ee7fb33-9d08-4f3d-af0d-48dabd3ae1c9"
   },
   "outputs": [
    {
     "data": {
      "text/html": [
       "<style scoped>\n",
       "  .table-result-container {\n",
       "    max-height: 300px;\n",
       "    overflow: auto;\n",
       "  }\n",
       "  table, th, td {\n",
       "    border: 1px solid black;\n",
       "    border-collapse: collapse;\n",
       "  }\n",
       "  th, td {\n",
       "    padding: 5px;\n",
       "  }\n",
       "  th {\n",
       "    text-align: left;\n",
       "  }\n",
       "</style><div class='table-result-container'><table class='table-result'><thead style='background-color: white'><tr><th>dayofmonth</th><th>count</th></tr></thead><tbody><tr><td>1</td><td>834271</td></tr><tr><td>2</td><td>861093</td></tr><tr><td>3</td><td>823726</td></tr><tr><td>4</td><td>851305</td></tr><tr><td>5</td><td>853476</td></tr><tr><td>6</td><td>886509</td></tr><tr><td>7</td><td>842203</td></tr><tr><td>8</td><td>836104</td></tr><tr><td>9</td><td>845744</td></tr><tr><td>10</td><td>848751</td></tr><tr><td>11</td><td>837990</td></tr><tr><td>12</td><td>824877</td></tr><tr><td>13</td><td>831304</td></tr><tr><td>14</td><td>796119</td></tr><tr><td>15</td><td>826661</td></tr><tr><td>16</td><td>832911</td></tr><tr><td>17</td><td>837148</td></tr><tr><td>18</td><td>862552</td></tr><tr><td>19</td><td>821542</td></tr><tr><td>20</td><td>848354</td></tr><tr><td>21</td><td>858283</td></tr><tr><td>22</td><td>859280</td></tr><tr><td>23</td><td>860147</td></tr><tr><td>24</td><td>844823</td></tr><tr><td>25</td><td>850191</td></tr><tr><td>26</td><td>899194</td></tr><tr><td>27</td><td>841648</td></tr><tr><td>28</td><td>852385</td></tr><tr><td>29</td><td>784425</td></tr><tr><td>30</td><td>781723</td></tr><tr><td>31</td><td>504797</td></tr></tbody></table></div>"
      ]
     },
     "metadata": {
      "tags": []
     },
     "output_type": "display_data"
    }
   ],
   "source": [
    "# TODO: bar plot by dayofmonth\n",
    "### BEGIN STRIP ###\n",
    "display(df_enriched.transform(partial(count_by_period, 'dayofmonth')))\n",
    "### END STRIP ###"
   ]
  },
  {
   "cell_type": "code",
   "execution_count": null,
   "metadata": {
    "colab": {},
    "colab_type": "code",
    "id": "4ExMKHpsSU92",
    "outputId": "413a74f9-3304-41c6-d590-eed4cbb6e087"
   },
   "outputs": [
    {
     "data": {
      "text/html": [
       "<style scoped>\n",
       "  .table-result-container {\n",
       "    max-height: 300px;\n",
       "    overflow: auto;\n",
       "  }\n",
       "  table, th, td {\n",
       "    border: 1px solid black;\n",
       "    border-collapse: collapse;\n",
       "  }\n",
       "  th, td {\n",
       "    padding: 5px;\n",
       "  }\n",
       "  th {\n",
       "    text-align: left;\n",
       "  }\n",
       "</style><div class='table-result-container'><table class='table-result'><thead style='background-color: white'><tr><th>dayofyear</th><th>count</th></tr></thead><tbody><tr><td>1</td><td>41515</td></tr><tr><td>2</td><td>48633</td></tr><tr><td>3</td><td>45255</td></tr><tr><td>4</td><td>60595</td></tr><tr><td>5</td><td>53693</td></tr><tr><td>6</td><td>61925</td></tr><tr><td>7</td><td>60638</td></tr><tr><td>8</td><td>62852</td></tr><tr><td>9</td><td>79243</td></tr><tr><td>10</td><td>55055</td></tr><tr><td>11</td><td>55746</td></tr><tr><td>12</td><td>66608</td></tr><tr><td>13</td><td>62169</td></tr><tr><td>14</td><td>70616</td></tr><tr><td>15</td><td>81157</td></tr><tr><td>16</td><td>68892</td></tr><tr><td>17</td><td>56775</td></tr><tr><td>18</td><td>71627</td></tr><tr><td>19</td><td>72274</td></tr><tr><td>20</td><td>68203</td></tr><tr><td>21</td><td>76800</td></tr><tr><td>22</td><td>62303</td></tr><tr><td>23</td><td>61002</td></tr><tr><td>24</td><td>58657</td></tr><tr><td>25</td><td>77634</td></tr><tr><td>26</td><td>87846</td></tr><tr><td>27</td><td>75324</td></tr><tr><td>28</td><td>63028</td></tr><tr><td>29</td><td>71169</td></tr><tr><td>30</td><td>69968</td></tr><tr><td>31</td><td>63469</td></tr><tr><td>32</td><td>69779</td></tr><tr><td>33</td><td>69526</td></tr><tr><td>34</td><td>70732</td></tr><tr><td>35</td><td>76842</td></tr><tr><td>36</td><td>82953</td></tr><tr><td>37</td><td>63208</td></tr><tr><td>38</td><td>44379</td></tr><tr><td>39</td><td>55314</td></tr><tr><td>40</td><td>72817</td></tr><tr><td>41</td><td>67701</td></tr><tr><td>42</td><td>57898</td></tr><tr><td>43</td><td>65614</td></tr><tr><td>44</td><td>65069</td></tr><tr><td>45</td><td>79783</td></tr><tr><td>46</td><td>79620</td></tr><tr><td>47</td><td>81489</td></tr><tr><td>48</td><td>90720</td></tr><tr><td>49</td><td>91103</td></tr><tr><td>50</td><td>86301</td></tr><tr><td>51</td><td>80451</td></tr><tr><td>52</td><td>69887</td></tr><tr><td>53</td><td>80494</td></tr><tr><td>54</td><td>88110</td></tr><tr><td>55</td><td>87594</td></tr><tr><td>56</td><td>93338</td></tr><tr><td>57</td><td>94824</td></tr><tr><td>58</td><td>86383</td></tr><tr><td>59</td><td>76885</td></tr><tr><td>60</td><td>77382</td></tr><tr><td>61</td><td>85031</td></tr><tr><td>62</td><td>95125</td></tr><tr><td>63</td><td>88629</td></tr><tr><td>64</td><td>91241</td></tr><tr><td>65</td><td>87283</td></tr><tr><td>66</td><td>74487</td></tr><tr><td>67</td><td>68240</td></tr><tr><td>68</td><td>80005</td></tr><tr><td>69</td><td>90216</td></tr><tr><td>70</td><td>80744</td></tr><tr><td>71</td><td>76967</td></tr><tr><td>72</td><td>79250</td></tr><tr><td>73</td><td>73593</td></tr><tr><td>74</td><td>76703</td></tr><tr><td>75</td><td>78193</td></tr><tr><td>76</td><td>84008</td></tr><tr><td>77</td><td>86284</td></tr><tr><td>78</td><td>76681</td></tr><tr><td>79</td><td>80024</td></tr><tr><td>80</td><td>68278</td></tr><tr><td>81</td><td>91130</td></tr><tr><td>82</td><td>74331</td></tr><tr><td>83</td><td>85260</td></tr><tr><td>84</td><td>78469</td></tr><tr><td>85</td><td>76982</td></tr><tr><td>86</td><td>78133</td></tr><tr><td>87</td><td>80441</td></tr><tr><td>88</td><td>79379</td></tr><tr><td>89</td><td>89357</td></tr><tr><td>90</td><td>89881</td></tr><tr><td>91</td><td>79208</td></tr><tr><td>92</td><td>93820</td></tr><tr><td>93</td><td>86379</td></tr><tr><td>94</td><td>63567</td></tr><tr><td>95</td><td>74971</td></tr><tr><td>96</td><td>75120</td></tr><tr><td>97</td><td>80273</td></tr><tr><td>98</td><td>72287</td></tr><tr><td>99</td><td>74045</td></tr><tr><td>100</td><td>68440</td></tr><tr><td>101</td><td>75575</td></tr><tr><td>102</td><td>73285</td></tr><tr><td>103</td><td>75579</td></tr><tr><td>104</td><td>79628</td></tr><tr><td>105</td><td>59167</td></tr><tr><td>106</td><td>72066</td></tr><tr><td>107</td><td>71980</td></tr><tr><td>108</td><td>77975</td></tr><tr><td>109</td><td>66495</td></tr><tr><td>110</td><td>73764</td></tr><tr><td>111</td><td>73807</td></tr><tr><td>112</td><td>84958</td></tr><tr><td>113</td><td>76129</td></tr><tr><td>114</td><td>75138</td></tr><tr><td>115</td><td>70157</td></tr><tr><td>116</td><td>80428</td></tr><tr><td>117</td><td>70173</td></tr><tr><td>118</td><td>86565</td></tr><tr><td>119</td><td>88733</td></tr><tr><td>120</td><td>85199</td></tr><tr><td>121</td><td>92547</td></tr><tr><td>122</td><td>79533</td></tr><tr><td>123</td><td>79055</td></tr><tr><td>124</td><td>82669</td></tr><tr><td>125</td><td>86061</td></tr><tr><td>126</td><td>119005</td></tr><tr><td>127</td><td>88794</td></tr><tr><td>128</td><td>79544</td></tr><tr><td>129</td><td>63998</td></tr><tr><td>130</td><td>73827</td></tr><tr><td>131</td><td>81984</td></tr><tr><td>132</td><td>88736</td></tr><tr><td>133</td><td>82117</td></tr><tr><td>134</td><td>74272</td></tr><tr><td>135</td><td>59295</td></tr><tr><td>136</td><td>55530</td></tr><tr><td>137</td><td>69125</td></tr><tr><td>138</td><td>77400</td></tr><tr><td>139</td><td>81949</td></tr><tr><td>140</td><td>75013</td></tr><tr><td>141</td><td>73374</td></tr><tr><td>142</td><td>78958</td></tr><tr><td>143</td><td>71814</td></tr><tr><td>144</td><td>64718</td></tr><tr><td>145</td><td>60056</td></tr><tr><td>146</td><td>73001</td></tr><tr><td>147</td><td>75490</td></tr><tr><td>148</td><td>77994</td></tr><tr><td>149</td><td>68093</td></tr><tr><td>150</td><td>64331</td></tr><tr><td>151</td><td>68666</td></tr><tr><td>152</td><td>83939</td></tr><tr><td>153</td><td>77919</td></tr><tr><td>154</td><td>67418</td></tr><tr><td>155</td><td>72538</td></tr><tr><td>156</td><td>67349</td></tr><tr><td>157</td><td>72101</td></tr><tr><td>158</td><td>91783</td></tr><tr><td>159</td><td>84474</td></tr><tr><td>160</td><td>82290</td></tr><tr><td>161</td><td>78870</td></tr><tr><td>162</td><td>72555</td></tr><tr><td>163</td><td>76441</td></tr><tr><td>164</td><td>70204</td></tr><tr><td>165</td><td>58215</td></tr><tr><td>166</td><td>60120</td></tr><tr><td>167</td><td>70580</td></tr><tr><td>168</td><td>72916</td></tr><tr><td>169</td><td>63425</td></tr><tr><td>170</td><td>60669</td></tr><tr><td>171</td><td>56121</td></tr><tr><td>172</td><td>57238</td></tr><tr><td>173</td><td>57745</td></tr><tr><td>174</td><td>71381</td></tr><tr><td>175</td><td>73594</td></tr><tr><td>176</td><td>77437</td></tr><tr><td>177</td><td>69669</td></tr><tr><td>178</td><td>64350</td></tr><tr><td>179</td><td>60441</td></tr><tr><td>180</td><td>65528</td></tr><tr><td>181</td><td>71457</td></tr><tr><td>182</td><td>69540</td></tr><tr><td>183</td><td>67279</td></tr><tr><td>184</td><td>65058</td></tr><tr><td>185</td><td>57770</td></tr><tr><td>186</td><td>59417</td></tr><tr><td>187</td><td>76788</td></tr><tr><td>188</td><td>68972</td></tr><tr><td>189</td><td>68463</td></tr><tr><td>190</td><td>72778</td></tr><tr><td>191</td><td>76381</td></tr><tr><td>192</td><td>66753</td></tr><tr><td>193</td><td>60010</td></tr><tr><td>194</td><td>70678</td></tr><tr><td>195</td><td>81519</td></tr><tr><td>196</td><td>63755</td></tr><tr><td>197</td><td>57988</td></tr><tr><td>198</td><td>59913</td></tr><tr><td>199</td><td>56095</td></tr><tr><td>200</td><td>43584</td></tr><tr><td>201</td><td>57375</td></tr><tr><td>202</td><td>68657</td></tr><tr><td>203</td><td>63469</td></tr><tr><td>204</td><td>56374</td></tr><tr><td>205</td><td>55389</td></tr><tr><td>206</td><td>57045</td></tr><tr><td>207</td><td>56895</td></tr><tr><td>208</td><td>49678</td></tr><tr><td>209</td><td>63773</td></tr><tr><td>210</td><td>62585</td></tr><tr><td>211</td><td>57823</td></tr><tr><td>212</td><td>73187</td></tr><tr><td>213</td><td>58003</td></tr><tr><td>214</td><td>52300</td></tr><tr><td>215</td><td>54010</td></tr><tr><td>216</td><td>60517</td></tr><tr><td>217</td><td>58657</td></tr><tr><td>218</td><td>59348</td></tr><tr><td>219</td><td>59138</td></tr><tr><td>220</td><td>48800</td></tr><tr><td>221</td><td>50152</td></tr><tr><td>222</td><td>56837</td></tr><tr><td>223</td><td>68022</td></tr><tr><td>224</td><td>56427</td></tr><tr><td>225</td><td>54586</td></tr><tr><td>226</td><td>55740</td></tr><tr><td>227</td><td>47080</td></tr><tr><td>228</td><td>50201</td></tr><tr><td>229</td><td>49046</td></tr><tr><td>230</td><td>58296</td></tr><tr><td>231</td><td>55764</td></tr><tr><td>232</td><td>62999</td></tr><tr><td>233</td><td>63519</td></tr><tr><td>234</td><td>53696</td></tr><tr><td>235</td><td>54225</td></tr><tr><td>236</td><td>60165</td></tr><tr><td>237</td><td>67012</td></tr><tr><td>238</td><td>63959</td></tr><tr><td>239</td><td>66175</td></tr><tr><td>240</td><td>57358</td></tr><tr><td>241</td><td>57723</td></tr><tr><td>242</td><td>62629</td></tr><tr><td>243</td><td>57785</td></tr><tr><td>244</td><td>61920</td></tr><tr><td>245</td><td>61612</td></tr><tr><td>246</td><td>62321</td></tr><tr><td>247</td><td>62894</td></tr><tr><td>248</td><td>65625</td></tr><tr><td>249</td><td>56163</td></tr><tr><td>250</td><td>62541</td></tr><tr><td>251</td><td>64429</td></tr><tr><td>252</td><td>69316</td></tr><tr><td>253</td><td>72289</td></tr><tr><td>254</td><td>65095</td></tr><tr><td>255</td><td>62479</td></tr><tr><td>256</td><td>59652</td></tr><tr><td>257</td><td>55216</td></tr><tr><td>258</td><td>67391</td></tr><tr><td>259</td><td>71190</td></tr><tr><td>260</td><td>65876</td></tr><tr><td>261</td><td>59762</td></tr><tr><td>262</td><td>59225</td></tr><tr><td>263</td><td>64980</td></tr><tr><td>264</td><td>65467</td></tr><tr><td>265</td><td>73521</td></tr><tr><td>266</td><td>67405</td></tr><tr><td>267</td><td>70497</td></tr><tr><td>268</td><td>83774</td></tr><tr><td>269</td><td>81317</td></tr><tr><td>270</td><td>74612</td></tr><tr><td>271</td><td>65079</td></tr><tr><td>272</td><td>65360</td></tr><tr><td>273</td><td>70525</td></tr><tr><td>274</td><td>65189</td></tr><tr><td>275</td><td>73676</td></tr><tr><td>276</td><td>67824</td></tr><tr><td>277</td><td>64714</td></tr><tr><td>278</td><td>64888</td></tr><tr><td>279</td><td>74278</td></tr><tr><td>280</td><td>85910</td></tr><tr><td>281</td><td>74244</td></tr><tr><td>282</td><td>65696</td></tr><tr><td>283</td><td>60546</td></tr><tr><td>284</td><td>61314</td></tr><tr><td>285</td><td>62355</td></tr><tr><td>286</td><td>76738</td></tr><tr><td>287</td><td>77087</td></tr><tr><td>288</td><td>76365</td></tr><tr><td>289</td><td>79261</td></tr><tr><td>290</td><td>73959</td></tr><tr><td>291</td><td>81242</td></tr><tr><td>292</td><td>82127</td></tr><tr><td>293</td><td>91957</td></tr><tr><td>294</td><td>94809</td></tr><tr><td>295</td><td>106454</td></tr><tr><td>296</td><td>92728</td></tr><tr><td>297</td><td>76869</td></tr><tr><td>298</td><td>68018</td></tr><tr><td>299</td><td>82093</td></tr><tr><td>300</td><td>92893</td></tr><tr><td>301</td><td>84448</td></tr><tr><td>302</td><td>87457</td></tr><tr><td>303</td><td>85499</td></tr><tr><td>304</td><td>77875</td></tr><tr><td>305</td><td>64655</td></tr><tr><td>306</td><td>79125</td></tr><tr><td>307</td><td>78352</td></tr><tr><td>308</td><td>84394</td></tr><tr><td>309</td><td>78972</td></tr><tr><td>310</td><td>75758</td></tr><tr><td>311</td><td>72677</td></tr><tr><td>312</td><td>65107</td></tr><tr><td>313</td><td>63902</td></tr><tr><td>314</td><td>78176</td></tr><tr><td>315</td><td>75057</td></tr><tr><td>316</td><td>76646</td></tr><tr><td>317</td><td>74338</td></tr><tr><td>318</td><td>63970</td></tr><tr><td>319</td><td>67612</td></tr><tr><td>320</td><td>67373</td></tr><tr><td>321</td><td>76089</td></tr><tr><td>322</td><td>72372</td></tr><tr><td>323</td><td>76122</td></tr><tr><td>324</td><td>76584</td></tr><tr><td>325</td><td>59389</td></tr><tr><td>326</td><td>62224</td></tr><tr><td>327</td><td>75304</td></tr><tr><td>328</td><td>80757</td></tr><tr><td>329</td><td>75493</td></tr><tr><td>330</td><td>74206</td></tr><tr><td>331</td><td>71993</td></tr><tr><td>332</td><td>68511</td></tr><tr><td>333</td><td>70172</td></tr><tr><td>334</td><td>64550</td></tr><tr><td>335</td><td>69825</td></tr><tr><td>336</td><td>71362</td></tr><tr><td>337</td><td>74688</td></tr><tr><td>338</td><td>75603</td></tr><tr><td>339</td><td>62952</td></tr><tr><td>340</td><td>64836</td></tr><tr><td>341</td><td>77552</td></tr><tr><td>342</td><td>76339</td></tr><tr><td>343</td><td>68427</td></tr><tr><td>344</td><td>74324</td></tr><tr><td>345</td><td>75242</td></tr><tr><td>346</td><td>65267</td></tr><tr><td>347</td><td>62175</td></tr><tr><td>348</td><td>58029</td></tr><tr><td>349</td><td>64896</td></tr><tr><td>350</td><td>74295</td></tr><tr><td>351</td><td>75200</td></tr><tr><td>352</td><td>67417</td></tr><tr><td>353</td><td>52528</td></tr><tr><td>354</td><td>56193</td></tr><tr><td>355</td><td>70569</td></tr><tr><td>356</td><td>69152</td></tr><tr><td>357</td><td>63566</td></tr><tr><td>358</td><td>60477</td></tr><tr><td>359</td><td>45718</td></tr><tr><td>360</td><td>45959</td></tr><tr><td>361</td><td>44839</td></tr><tr><td>362</td><td>50144</td></tr><tr><td>363</td><td>55244</td></tr><tr><td>364</td><td>60933</td></tr><tr><td>365</td><td>65010</td></tr><tr><td>366</td><td>7850</td></tr></tbody></table></div>"
      ]
     },
     "metadata": {
      "tags": []
     },
     "output_type": "display_data"
    }
   ],
   "source": [
    "# TODO: bar plot by dayofyear\n",
    "### BEGIN STRIP ###\n",
    "display(df_enriched.transform(partial(count_by_period, 'dayofyear')))\n",
    "### END STRIP ###"
   ]
  },
  {
   "cell_type": "code",
   "execution_count": null,
   "metadata": {
    "colab": {},
    "colab_type": "code",
    "id": "D1HtQZnP2S2_"
   },
   "outputs": [],
   "source": []
  }
 ],
 "metadata": {
  "colab": {
   "name": "05-EDA_on_time_based_features_solutions.ipynb",
   "provenance": []
  },
  "kernelspec": {
   "display_name": "Python 3",
   "language": "python",
   "name": "python3"
  },
  "language_info": {
   "codemirror_mode": {
    "name": "ipython",
    "version": 3
   },
   "file_extension": ".py",
   "mimetype": "text/x-python",
   "name": "python",
   "nbconvert_exporter": "python",
   "pygments_lexer": "ipython3",
   "version": "3.8.5"
  },
  "name": "05-EDA_on_time-based_features",
  "notebookId": 1150
 },
 "nbformat": 4,
 "nbformat_minor": 1
}
