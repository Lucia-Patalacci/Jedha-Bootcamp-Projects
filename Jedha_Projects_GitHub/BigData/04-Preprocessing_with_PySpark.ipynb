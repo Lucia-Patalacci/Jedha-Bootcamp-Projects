{
 "cells": [
  {
   "cell_type": "markdown",
   "metadata": {
    "colab_type": "text",
    "id": "DUIsPIqPhbkC"
   },
   "source": [
    "# Preprocessing"
   ]
  },
  {
   "cell_type": "markdown",
   "metadata": {
    "colab_type": "text",
    "id": "BiGKO77-hbkD"
   },
   "source": [
    "## Loading our data from S3"
   ]
  },
  {
   "cell_type": "code",
   "execution_count": null,
   "metadata": {
    "colab": {},
    "colab_type": "code",
    "id": "KmszPRc-hbkD",
    "outputId": "c3f58e02-2a20-422a-bbd2-bccc17451623"
   },
   "outputs": [
    {
     "data": {
      "text/html": [
       "<style scoped>\n",
       "  .ansiout {\n",
       "    display: block;\n",
       "    unicode-bidi: embed;\n",
       "    white-space: pre-wrap;\n",
       "    word-wrap: break-word;\n",
       "    word-break: break-all;\n",
       "    font-family: \"Source Code Pro\", \"Menlo\", monospace;;\n",
       "    font-size: 13px;\n",
       "    color: #555;\n",
       "    margin-left: 4px;\n",
       "    line-height: 19px;\n",
       "  }\n",
       "</style>\n",
       "<div class=\"ansiout\"></div>"
      ]
     },
     "metadata": {
      "tags": []
     },
     "output_type": "display_data"
    }
   ],
   "source": [
    "import boto3\n",
    "from pyspark.sql import functions as F"
   ]
  },
  {
   "cell_type": "code",
   "execution_count": null,
   "metadata": {
    "colab": {},
    "colab_type": "code",
    "id": "SWk1ifhshbkG",
    "outputId": "ce845078-0cd9-4f86-de5b-472f13ebaa9c"
   },
   "outputs": [
    {
     "data": {
      "text/html": [
       "<style scoped>\n",
       "  .ansiout {\n",
       "    display: block;\n",
       "    unicode-bidi: embed;\n",
       "    white-space: pre-wrap;\n",
       "    word-wrap: break-word;\n",
       "    word-break: break-all;\n",
       "    font-family: \"Source Code Pro\", \"Menlo\", monospace;;\n",
       "    font-size: 13px;\n",
       "    color: #555;\n",
       "    margin-left: 4px;\n",
       "    line-height: 19px;\n",
       "  }\n",
       "</style>\n",
       "<div class=\"ansiout\"></div>"
      ]
     },
     "metadata": {
      "tags": []
     },
     "output_type": "display_data"
    }
   ],
   "source": [
    "S3_RESOURCE = 's3'\n",
    "SCHEME = 's3a'\n",
    "# TODO: define your BUCKET_NAME and PREFIX\n",
    "BUCKET_NAME = ''\n",
    "PREFIX = ''\n",
    "### BEGIN STRIP ###\n",
    "BUCKET_NAME = 'nibble-datasets'\n",
    "PREFIX = ''\n",
    "### END STRIP ###\n",
    "INPUT_FILENAME = 'youtube-playlog.csv'"
   ]
  },
  {
   "cell_type": "code",
   "execution_count": null,
   "metadata": {
    "colab": {},
    "colab_type": "code",
    "id": "fZjPQCKhhbkI",
    "outputId": "71d3dfab-ef47-46c3-ddc0-bbbebd8844af"
   },
   "outputs": [
    {
     "data": {
      "text/html": [
       "<style scoped>\n",
       "  .ansiout {\n",
       "    display: block;\n",
       "    unicode-bidi: embed;\n",
       "    white-space: pre-wrap;\n",
       "    word-wrap: break-word;\n",
       "    word-break: break-all;\n",
       "    font-family: \"Source Code Pro\", \"Menlo\", monospace;;\n",
       "    font-size: 13px;\n",
       "    color: #555;\n",
       "    margin-left: 4px;\n",
       "    line-height: 19px;\n",
       "  }\n",
       "</style>\n",
       "<div class=\"ansiout\"></div>"
      ]
     },
     "metadata": {
      "tags": []
     },
     "output_type": "display_data"
    }
   ],
   "source": [
    "def get_s3_path(key, bucket_name=BUCKET_NAME, scheme=SCHEME):\n",
    "    return f\"{scheme}://{bucket_name}/{key}\""
   ]
  },
  {
   "cell_type": "code",
   "execution_count": null,
   "metadata": {
    "colab": {},
    "colab_type": "code",
    "id": "ZwmzPrIFhbkK",
    "outputId": "a45ac47c-4b8e-4a7e-e355-3fc4b32b1df7"
   },
   "outputs": [
    {
     "data": {
      "text/html": [
       "<style scoped>\n",
       "  .ansiout {\n",
       "    display: block;\n",
       "    unicode-bidi: embed;\n",
       "    white-space: pre-wrap;\n",
       "    word-wrap: break-word;\n",
       "    word-break: break-all;\n",
       "    font-family: \"Source Code Pro\", \"Menlo\", monospace;;\n",
       "    font-size: 13px;\n",
       "    color: #555;\n",
       "    margin-left: 4px;\n",
       "    line-height: 19px;\n",
       "  }\n",
       "</style>\n",
       "<div class=\"ansiout\"></div>"
      ]
     },
     "metadata": {
      "tags": []
     },
     "output_type": "display_data"
    }
   ],
   "source": [
    "# We create a S3 resource and a Bucket from this same resource\n",
    "s3 = boto3.resource(S3_RESOURCE)\n",
    "bucket = s3.Bucket(BUCKET_NAME)"
   ]
  },
  {
   "cell_type": "code",
   "execution_count": null,
   "metadata": {
    "colab": {},
    "colab_type": "code",
    "id": "yrDz82A1hbkO",
    "outputId": "6dacc869-f388-4fb5-a559-9518c511b9a7"
   },
   "outputs": [
    {
     "data": {
      "text/html": [
       "<style scoped>\n",
       "  .ansiout {\n",
       "    display: block;\n",
       "    unicode-bidi: embed;\n",
       "    white-space: pre-wrap;\n",
       "    word-wrap: break-word;\n",
       "    word-break: break-all;\n",
       "    font-family: \"Source Code Pro\", \"Menlo\", monospace;;\n",
       "    font-size: 13px;\n",
       "    color: #555;\n",
       "    margin-left: 4px;\n",
       "    line-height: 19px;\n",
       "  }\n",
       "</style>\n",
       "<div class=\"ansiout\">+----------+----+-----------+\n",
       " timestamp|user|       song|\n",
       "+----------+----+-----------+\n",
       "1392387533|   0|t1l8Z6gLPzo|\n",
       "1392387538|   1|t1l8Z6gLPzo|\n",
       "1392387556|   2|t1l8Z6gLPzo|\n",
       "1392387561|   3|we5gzZq5Avg|\n",
       "1392387566|   4|we5gzZq5Avg|\n",
       "+----------+----+-----------+\n",
       "only showing top 5 rows\n",
       "\n",
       "</div>"
      ]
     },
     "metadata": {
      "tags": []
     },
     "output_type": "display_data"
    }
   ],
   "source": [
    "# TODO: load the the into a PySpark DataFrame: `playlog`\n",
    "### BEGIN STRIP ###\n",
    "playlog = (spark.read \\\n",
    "           .format('csv') \\\n",
    "           .options(header=True, inferSchema=True) \\\n",
    "           .load(get_s3_path(f'{PREFIX}/{INPUT_FILENAME}')))\n",
    "### END STRIP ###\n",
    "playlog.show(5)"
   ]
  },
  {
   "cell_type": "markdown",
   "metadata": {
    "colab_type": "text",
    "id": "lv0pkFjGhbkR"
   },
   "source": [
    "## First analysis"
   ]
  },
  {
   "cell_type": "code",
   "execution_count": null,
   "metadata": {
    "colab": {},
    "colab_type": "code",
    "id": "saqSASA2hbkS",
    "outputId": "b6fa5413-8bcd-4c9e-c071-92fecee71965"
   },
   "outputs": [
    {
     "data": {
      "text/html": [
       "<style scoped>\n",
       "  .ansiout {\n",
       "    display: block;\n",
       "    unicode-bidi: embed;\n",
       "    white-space: pre-wrap;\n",
       "    word-wrap: break-word;\n",
       "    word-break: break-all;\n",
       "    font-family: \"Source Code Pro\", \"Menlo\", monospace;;\n",
       "    font-size: 13px;\n",
       "    color: #555;\n",
       "    margin-left: 4px;\n",
       "    line-height: 19px;\n",
       "  }\n",
       "</style>\n",
       "<div class=\"ansiout\">root\n",
       "-- timestamp: integer (nullable = true)\n",
       "-- user: integer (nullable = true)\n",
       "-- song: string (nullable = true)\n",
       "\n",
       "</div>"
      ]
     },
     "metadata": {
      "tags": []
     },
     "output_type": "display_data"
    }
   ],
   "source": [
    "# TODO: print out our DataFrame's schema\n",
    "### BEGIN STRIP ###\n",
    "playlog.printSchema()\n",
    "### END STRIP ###"
   ]
  },
  {
   "cell_type": "code",
   "execution_count": null,
   "metadata": {
    "colab": {},
    "colab_type": "code",
    "id": "F8PWDJIFhbkT",
    "outputId": "48f467a3-7516-40ca-8485-8426d8b94f34"
   },
   "outputs": [
    {
     "data": {
      "text/html": [
       "<div>\n",
       "<style scoped>\n",
       "    .dataframe tbody tr th:only-of-type {\n",
       "        vertical-align: middle;\n",
       "    }\n",
       "\n",
       "    .dataframe tbody tr th {\n",
       "        vertical-align: top;\n",
       "    }\n",
       "\n",
       "    .dataframe thead th {\n",
       "        text-align: right;\n",
       "    }\n",
       "</style>\n",
       "<table border=\"1\" class=\"dataframe\">\n",
       "  <thead>\n",
       "    <tr style=\"text-align: right;\">\n",
       "      <th></th>\n",
       "      <th>summary</th>\n",
       "      <th>timestamp</th>\n",
       "      <th>user</th>\n",
       "      <th>song</th>\n",
       "    </tr>\n",
       "  </thead>\n",
       "  <tbody>\n",
       "    <tr>\n",
       "      <th>0</th>\n",
       "      <td>count</td>\n",
       "      <td>25739537</td>\n",
       "      <td>25739537</td>\n",
       "      <td>25739537</td>\n",
       "    </tr>\n",
       "    <tr>\n",
       "      <th>1</th>\n",
       "      <td>mean</td>\n",
       "      <td>1.4427006561045842E9</td>\n",
       "      <td>12697.352275450798</td>\n",
       "      <td>2.532571778181818E8</td>\n",
       "    </tr>\n",
       "    <tr>\n",
       "      <th>2</th>\n",
       "      <td>stddev</td>\n",
       "      <td>3.443284872366753E7</td>\n",
       "      <td>13094.065905828438</td>\n",
       "      <td>8.334645614940468E8</td>\n",
       "    </tr>\n",
       "    <tr>\n",
       "      <th>3</th>\n",
       "      <td>min</td>\n",
       "      <td>-139955897</td>\n",
       "      <td>0</td>\n",
       "      <td>---AtpxbkaE</td>\n",
       "    </tr>\n",
       "    <tr>\n",
       "      <th>4</th>\n",
       "      <td>max</td>\n",
       "      <td>1554321113</td>\n",
       "      <td>45903</td>\n",
       "      <td>zzzcFgRMY6c</td>\n",
       "    </tr>\n",
       "  </tbody>\n",
       "</table>\n",
       "</div>"
      ]
     },
     "metadata": {
      "tags": []
     },
     "output_type": "display_data"
    }
   ],
   "source": [
    "# TODO: use `.describe(...)` on your DataFrame\n",
    "### BEGIN STRIP ###\n",
    "playlog.describe().toPandas()\n",
    "### END STRIP ###"
   ]
  },
  {
   "cell_type": "markdown",
   "metadata": {
    "colab_type": "text",
    "id": "mdt4GdkvhbkW"
   },
   "source": [
    "### Missing values check"
   ]
  },
  {
   "cell_type": "code",
   "execution_count": null,
   "metadata": {
    "colab": {},
    "colab_type": "code",
    "id": "gxCIU-oJhbkW",
    "outputId": "be7604e8-3fea-4738-b57e-d1185191e2d9"
   },
   "outputs": [
    {
     "data": {
      "text/html": [
       "<div>\n",
       "<style scoped>\n",
       "    .dataframe tbody tr th:only-of-type {\n",
       "        vertical-align: middle;\n",
       "    }\n",
       "\n",
       "    .dataframe tbody tr th {\n",
       "        vertical-align: top;\n",
       "    }\n",
       "\n",
       "    .dataframe thead th {\n",
       "        text-align: right;\n",
       "    }\n",
       "</style>\n",
       "<table border=\"1\" class=\"dataframe\">\n",
       "  <thead>\n",
       "    <tr style=\"text-align: right;\">\n",
       "      <th></th>\n",
       "      <th>timestamp</th>\n",
       "      <th>user</th>\n",
       "      <th>song</th>\n",
       "    </tr>\n",
       "  </thead>\n",
       "  <tbody>\n",
       "    <tr>\n",
       "      <th>missing values</th>\n",
       "      <td>0</td>\n",
       "      <td>0</td>\n",
       "      <td>0</td>\n",
       "    </tr>\n",
       "  </tbody>\n",
       "</table>\n",
       "</div>"
      ]
     },
     "metadata": {
      "tags": []
     },
     "output_type": "display_data"
    }
   ],
   "source": [
    "# TODO: count the missing values for each column\n",
    "#       put the result in a pandas DataFrame and print it out\n",
    "### BEGIN STRIP ###\n",
    "import pandas as pd\n",
    "\n",
    "pd.DataFrame.from_dict(\n",
    "  {c: playlog.filter(playlog[c].isNull()).count() for c in playlog.columns},\n",
    "  orient='index', columns=['missing values']\n",
    ").T\n",
    "### END STRIP ###"
   ]
  },
  {
   "cell_type": "markdown",
   "metadata": {
    "colab_type": "text",
    "id": "vuph_yjwhbkY"
   },
   "source": [
    "### Duplicates check"
   ]
  },
  {
   "cell_type": "code",
   "execution_count": null,
   "metadata": {
    "colab": {},
    "colab_type": "code",
    "id": "4hLe-j3chbkY",
    "outputId": "dc9f3126-edcf-4603-8b65-e13b6197cc94"
   },
   "outputs": [
    {
     "data": {
      "text/html": [
       "<style scoped>\n",
       "  .ansiout {\n",
       "    display: block;\n",
       "    unicode-bidi: embed;\n",
       "    white-space: pre-wrap;\n",
       "    word-wrap: break-word;\n",
       "    word-break: break-all;\n",
       "    font-family: \"Source Code Pro\", \"Menlo\", monospace;;\n",
       "    font-size: 13px;\n",
       "    color: #555;\n",
       "    margin-left: 4px;\n",
       "    line-height: 19px;\n",
       "  }\n",
       "</style>\n",
       "<div class=\"ansiout\">Out[14]: False</div>"
      ]
     },
     "metadata": {
      "tags": []
     },
     "output_type": "display_data"
    }
   ],
   "source": [
    "# TODO: check if playlog without duplicates has the same number of rows as the original\n",
    "### BEGIN STRIP ###\n",
    "playlog.count() == playlog.dropDuplicates().count()\n",
    "### END STRIP ###"
   ]
  },
  {
   "cell_type": "markdown",
   "metadata": {
    "colab_type": "text",
    "id": "Sb-6_jq7hbka"
   },
   "source": [
    "Seems like we have duplicates, let's count how many."
   ]
  },
  {
   "cell_type": "code",
   "execution_count": null,
   "metadata": {
    "colab": {},
    "colab_type": "code",
    "id": "3D_2UPTdhbka",
    "outputId": "f054c448-e956-4266-cb05-9030bc3e4f09"
   },
   "outputs": [
    {
     "data": {
      "text/html": [
       "<style scoped>\n",
       "  .ansiout {\n",
       "    display: block;\n",
       "    unicode-bidi: embed;\n",
       "    white-space: pre-wrap;\n",
       "    word-wrap: break-word;\n",
       "    word-break: break-all;\n",
       "    font-family: \"Source Code Pro\", \"Menlo\", monospace;;\n",
       "    font-size: 13px;\n",
       "    color: #555;\n",
       "    margin-left: 4px;\n",
       "    line-height: 19px;\n",
       "  }\n",
       "</style>\n",
       "<div class=\"ansiout\">Out[15]: 123651</div>"
      ]
     },
     "metadata": {
      "tags": []
     },
     "output_type": "display_data"
    }
   ],
   "source": [
    "# TODO: figure out a way to count the number of duplicates\n",
    "### BEGIN STRIP ###\n",
    "(playlog.count() - playlog.dropDuplicates().count())\n",
    "### END STRIP ###"
   ]
  },
  {
   "cell_type": "code",
   "execution_count": null,
   "metadata": {
    "colab": {},
    "colab_type": "code",
    "id": "J287LgCAhbkc",
    "outputId": "6e0f5654-7d9a-4413-de5a-990ab15db0e8"
   },
   "outputs": [
    {
     "data": {
      "text/html": [
       "<div>\n",
       "<style scoped>\n",
       "    .dataframe tbody tr th:only-of-type {\n",
       "        vertical-align: middle;\n",
       "    }\n",
       "\n",
       "    .dataframe tbody tr th {\n",
       "        vertical-align: top;\n",
       "    }\n",
       "\n",
       "    .dataframe thead th {\n",
       "        text-align: right;\n",
       "    }\n",
       "</style>\n",
       "<table border=\"1\" class=\"dataframe\">\n",
       "  <thead>\n",
       "    <tr style=\"text-align: right;\">\n",
       "      <th></th>\n",
       "      <th>summary</th>\n",
       "      <th>ids_size</th>\n",
       "    </tr>\n",
       "  </thead>\n",
       "  <tbody>\n",
       "    <tr>\n",
       "      <th>0</th>\n",
       "      <td>count</td>\n",
       "      <td>80352</td>\n",
       "    </tr>\n",
       "    <tr>\n",
       "      <th>1</th>\n",
       "      <td>mean</td>\n",
       "      <td>2.538866487455197</td>\n",
       "    </tr>\n",
       "    <tr>\n",
       "      <th>2</th>\n",
       "      <td>stddev</td>\n",
       "      <td>1.6539289063819824</td>\n",
       "    </tr>\n",
       "    <tr>\n",
       "      <th>3</th>\n",
       "      <td>min</td>\n",
       "      <td>2</td>\n",
       "    </tr>\n",
       "    <tr>\n",
       "      <th>4</th>\n",
       "      <td>max</td>\n",
       "      <td>66</td>\n",
       "    </tr>\n",
       "  </tbody>\n",
       "</table>\n",
       "</div>"
      ]
     },
     "metadata": {
      "tags": []
     },
     "output_type": "display_data"
    }
   ],
   "source": [
    "# BONUS: compute descriptive statistics for duplicates \n",
    "#        How many duplicates on average (for duplicated rows)?\n",
    "#        And the standard deviation?\n",
    "#        What' the min? The max? \n",
    "#\n",
    "# WARNING: this might be difficult\n",
    "### BEGIN STRIP ###\n",
    "playlog.groupBy(playlog.columns) \\\n",
    "  .agg(F.collect_list('timestamp').alias('ids')) \\\n",
    "  .select(F.size('ids').alias('ids_size')) \\\n",
    "  .where(F.col('ids_size') > 1) \\\n",
    "  .describe().toPandas()\n",
    "### END STRIP ###"
   ]
  },
  {
   "cell_type": "markdown",
   "metadata": {
    "colab_type": "text",
    "id": "V8toI2iWhbke"
   },
   "source": [
    "### Other checks"
   ]
  },
  {
   "cell_type": "code",
   "execution_count": null,
   "metadata": {
    "colab": {},
    "colab_type": "code",
    "id": "i4ktzjsIhbkf",
    "outputId": "664a9328-a17f-485c-b566-04807afbaf06"
   },
   "outputs": [
    {
     "data": {
      "text/html": [
       "<style scoped>\n",
       "  .ansiout {\n",
       "    display: block;\n",
       "    unicode-bidi: embed;\n",
       "    white-space: pre-wrap;\n",
       "    word-wrap: break-word;\n",
       "    word-break: break-all;\n",
       "    font-family: \"Source Code Pro\", \"Menlo\", monospace;;\n",
       "    font-size: 13px;\n",
       "    color: #555;\n",
       "    margin-left: 4px;\n",
       "    line-height: 19px;\n",
       "  }\n",
       "</style>\n",
       "<div class=\"ansiout\">+----------+----+-----------+\n",
       " timestamp|user|       song|\n",
       "+----------+----+-----------+\n",
       "-139955897|   4|nRa-eGzpT6o|\n",
       "1392387533|   0|t1l8Z6gLPzo|\n",
       "1392387537|  70|VJ6ofd0pB_c|\n",
       "1392387537|  22|Q24VZL8wpOM|\n",
       "1392387538|   1|t1l8Z6gLPzo|\n",
       "+----------+----+-----------+\n",
       "only showing top 5 rows\n",
       "\n",
       "</div>"
      ]
     },
     "metadata": {
      "tags": []
     },
     "output_type": "display_data"
    }
   ],
   "source": [
    "# TODO: order the dataframe by ascending `timestamp` and show the first 5 rows\n",
    "### BEGIN STRIP ###\n",
    "playlog.orderBy('timestamp').show(5)\n",
    "### END STRIP ###"
   ]
  },
  {
   "cell_type": "markdown",
   "metadata": {
    "colab_type": "text",
    "id": "dr9-MUixhbkg"
   },
   "source": [
    "Do you see anything suspicious?\n",
    "\n",
    "---\n",
    "\n",
    "The first timestamp is negative, and it seems like it's the only one.  \n",
    "We will make sure there aren't other like this."
   ]
  },
  {
   "cell_type": "code",
   "execution_count": null,
   "metadata": {
    "colab": {},
    "colab_type": "code",
    "id": "LPfVXhtnhbkh",
    "outputId": "aeecb25d-da35-4025-939f-aa02d19300f7"
   },
   "outputs": [
    {
     "data": {
      "text/html": [
       "<style scoped>\n",
       "  .ansiout {\n",
       "    display: block;\n",
       "    unicode-bidi: embed;\n",
       "    white-space: pre-wrap;\n",
       "    word-wrap: break-word;\n",
       "    word-break: break-all;\n",
       "    font-family: \"Source Code Pro\", \"Menlo\", monospace;;\n",
       "    font-size: 13px;\n",
       "    color: #555;\n",
       "    margin-left: 4px;\n",
       "    line-height: 19px;\n",
       "  }\n",
       "</style>\n",
       "<div class=\"ansiout\">Out[18]: 1</div>"
      ]
     },
     "metadata": {
      "tags": []
     },
     "output_type": "display_data"
    }
   ],
   "source": [
    "# TODO: count the number of rows with a negative timestamp\n",
    "### BEGIN STRIP ###\n",
    "playlog.where(playlog['timestamp'] < 0).count()\n",
    "### END STRIP ###"
   ]
  },
  {
   "cell_type": "markdown",
   "metadata": {
    "colab_type": "text",
    "id": "uJDLNkkshbki"
   },
   "source": [
    "As expected, only one such negative timestamp. Since we have only one we can actually `.collect(...)` it."
   ]
  },
  {
   "cell_type": "code",
   "execution_count": null,
   "metadata": {
    "colab": {},
    "colab_type": "code",
    "id": "5gavHqaohbki",
    "outputId": "2ee0ce15-c23b-4c13-c2e9-2e4c7c445402"
   },
   "outputs": [
    {
     "data": {
      "text/html": [
       "<style scoped>\n",
       "  .ansiout {\n",
       "    display: block;\n",
       "    unicode-bidi: embed;\n",
       "    white-space: pre-wrap;\n",
       "    word-wrap: break-word;\n",
       "    word-break: break-all;\n",
       "    font-family: \"Source Code Pro\", \"Menlo\", monospace;;\n",
       "    font-size: 13px;\n",
       "    color: #555;\n",
       "    margin-left: 4px;\n",
       "    line-height: 19px;\n",
       "  }\n",
       "</style>\n",
       "<div class=\"ansiout\">Out[19]: [Row(timestamp=-139955897, user=4, song=&#39;nRa-eGzpT6o&#39;)]</div>"
      ]
     },
     "metadata": {
      "tags": []
     },
     "output_type": "display_data"
    }
   ],
   "source": [
    "# TODO: collect the problematic rows\n",
    "### BEGIN STRIP ###\n",
    "playlog.where(playlog['timestamp'] < 0).collect()\n",
    "### END STRIP ###"
   ]
  },
  {
   "cell_type": "markdown",
   "metadata": {
    "colab_type": "text",
    "id": "BXVryG9Ghbkk"
   },
   "source": [
    "There's only one problematic value among more than 25M.  This negative timestamp is an error, as such the real value is missing. We could try to reconstruct the real value but that would be a really tedious task, since it's one value over 25M, we will simply remove it."
   ]
  },
  {
   "cell_type": "markdown",
   "metadata": {
    "colab_type": "text",
    "id": "6j6T5jA_hbkl"
   },
   "source": [
    "## Removing the row with a negative timestamp"
   ]
  },
  {
   "cell_type": "markdown",
   "metadata": {
    "colab_type": "text",
    "id": "ctGNZjdmhbkl"
   },
   "source": [
    "We will use our new knowledge about the data to perform some preprocessing.  \n",
    "\n",
    "Our pipeline will have 2 steps:\n",
    "1. Remove duplicates (123651 rows)\n",
    "2. Remove row with negative timestamps (1 row)\n",
    "\n",
    "We will call our new DataFrame `playlog_processed` and save it to S3 in parquet format."
   ]
  },
  {
   "cell_type": "code",
   "execution_count": null,
   "metadata": {
    "colab": {},
    "colab_type": "code",
    "id": "wDxP_d9Ihbkl",
    "outputId": "43520a23-219e-41cb-ab6f-a16c65fbb0ae"
   },
   "outputs": [
    {
     "data": {
      "text/html": [
       "<style scoped>\n",
       "  .ansiout {\n",
       "    display: block;\n",
       "    unicode-bidi: embed;\n",
       "    white-space: pre-wrap;\n",
       "    word-wrap: break-word;\n",
       "    word-break: break-all;\n",
       "    font-family: \"Source Code Pro\", \"Menlo\", monospace;;\n",
       "    font-size: 13px;\n",
       "    color: #555;\n",
       "    margin-left: 4px;\n",
       "    line-height: 19px;\n",
       "  }\n",
       "</style>\n",
       "<div class=\"ansiout\">Out[20]: 25615885</div>"
      ]
     },
     "metadata": {
      "tags": []
     },
     "output_type": "display_data"
    }
   ],
   "source": [
    "# TODO: filter out:\n",
    "#       - duplicated values\n",
    "#       - rows with negative timestamp\n",
    "#       and save the result to a new DataFrame: `playlog_processed`\n",
    "#       Finally, print out the number of rows in this DataFrame\n",
    "### BEGIN STRIP ###\n",
    "playlog_processed = (playlog.dropDuplicates() \\\n",
    "                     .filter(~(playlog.timestamp < 0)))\n",
    "playlog_processed.count()\n",
    "### END STRIP ###"
   ]
  },
  {
   "cell_type": "code",
   "execution_count": null,
   "metadata": {
    "colab": {},
    "colab_type": "code",
    "id": "-gAQeDI2hbkn"
   },
   "outputs": [],
   "source": [
    "# TODO:\n",
    "OUTPUT_BUCKET_NAME = ''\n",
    "OUTPUT_PREFIX = ''\n",
    "\n",
    "# BEGIN STRIP ###\n",
    "OUTPUT_BUCKET_NAME = 'nibble-clients'\n",
    "OUTPUT_PREFIX = 'jedha'\n",
    "### END STRIP ###\n",
    "OUTPUT_PROJECT_FOLDER = 'PySpark-Cloud/data'\n",
    "\n",
    "output_path = f'{OUTPUT_PREFIX}/{OUTPUT_PROJECT_FOLDER}/processed/playlog_processed.parquet'\n",
    "\n",
    "# TODO: save the processed DataFrame to S3 using the parquet format\n",
    "### BEGIN STRIP ###\n",
    "playlog_processed.write \\\n",
    "  .parquet(get_s3_path(output_path, bucket_name=OUTPUT_BUCKET_NAME), mode='overwrite')\n",
    "### END STRIP ###"
   ]
  },
  {
   "cell_type": "code",
   "execution_count": null,
   "metadata": {
    "colab": {},
    "colab_type": "code",
    "id": "7miadVk0lNbw"
   },
   "outputs": [],
   "source": []
  }
 ],
 "metadata": {
  "colab": {
   "name": "04-Preprocessing_with_PySpark_solutions.ipynb",
   "provenance": []
  },
  "kernelspec": {
   "display_name": "Python 3",
   "language": "python",
   "name": "python3"
  },
  "language_info": {
   "codemirror_mode": {
    "name": "ipython",
    "version": 3
   },
   "file_extension": ".py",
   "mimetype": "text/x-python",
   "name": "python",
   "nbconvert_exporter": "python",
   "pygments_lexer": "ipython3",
   "version": "3.8.5"
  },
  "name": "04-Preprocessing_with_PySpark",
  "notebookId": 1352
 },
 "nbformat": 4,
 "nbformat_minor": 1
}
